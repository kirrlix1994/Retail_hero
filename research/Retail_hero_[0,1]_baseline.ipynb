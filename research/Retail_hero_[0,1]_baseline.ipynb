{
 "cells": [
  {
   "cell_type": "markdown",
   "metadata": {},
   "source": [
    "####  MAKE FEATURES / uplift different pipelines / validation"
   ]
  },
  {
   "cell_type": "markdown",
   "metadata": {},
   "source": [
    "- data aggregation, last data features, total aggs\n",
    "- set uplift pipelines\n",
    "- get validation scores\n",
    "- search model best params with validation"
   ]
  },
  {
   "cell_type": "code",
   "execution_count": null,
   "metadata": {},
   "outputs": [],
   "source": [
    "%load_ext autoreload\n",
    "%autoreload 2"
   ]
  },
  {
   "cell_type": "code",
   "execution_count": 16,
   "metadata": {
    "collapsed": true
   },
   "outputs": [],
   "source": [
    "import dill\n",
    "import sys\n",
    "import pandas as pd\n",
    "import numpy as np\n",
    "import gc\n",
    "import warnings\n",
    "  \n",
    "from dstools.spark import init_spark2\n",
    "\n",
    "from dstools.ml import yandex_mean_encoder\n",
    "\n",
    "from sklearn.model_selection import train_test_split\n",
    "\n",
    "from sklift.models import SoloModel, ClassTransformation, TwoModels\n",
    "from sklift.metrics import uplift_at_k\n",
    "\n",
    "from causalml.inference.tree import UpliftTreeClassifier, UpliftRandomForestClassifier\n",
    "from causalml.inference.tree import uplift_tree_string, uplift_tree_plot \n",
    "\n",
    "from sklearn.pipeline import Pipeline\n",
    "\n",
    "from xgboost import XGBClassifier\n",
    "from catboost import CatBoostClassifier\n",
    "from lightgbm import LGBMClassifier\n",
    "\n",
    "warnings.filterwarnings('ignore')"
   ]
  },
  {
   "cell_type": "code",
   "execution_count": 5,
   "metadata": {
    "collapsed": true
   },
   "outputs": [],
   "source": [
    "#!/data/dfs1/home/kvliksak/Feature_importance/research_venv_py37/bin/python -m pip install causalml\n",
    "#!/data/dfs1/home/kvliksak/Feature_importance/research_venv_py37/bin/python -m pip install scikit-uplift "
   ]
  },
  {
   "cell_type": "code",
   "execution_count": 6,
   "metadata": {
    "collapsed": true
   },
   "outputs": [],
   "source": [
    "spark = init_spark2({\n",
    "    \"appName\": \"ret_baseline\",\n",
    "    \"spark.yarn.queue\": \"default\",\n",
    "    \"spark.driver.memory\": \"32g\",\n",
    "    \"spark.executor.memoryOverhead\": \"2048\",\n",
    "    \"spark.driver.extraJavaOptions\": \"-XX:ThreadStackSize=81920\",\n",
    "    \"spark.executor.extraJavaOptions\": \"-XX:ThreadStackSize=81920\",\n",
    "    \"spark.driver.maxResultSize\": \"45g\",\n",
    "    \"spark.driver.memory\": \"45g\"\n",
    "})"
   ]
  },
  {
   "cell_type": "code",
   "execution_count": 7,
   "metadata": {
    "collapsed": true
   },
   "outputs": [],
   "source": [
    "sys.path.append('./scripts/')\n",
    "from add_functions import catb_get_feature_imp, make_validation"
   ]
  },
  {
   "cell_type": "markdown",
   "metadata": {},
   "source": [
    "----"
   ]
  },
  {
   "cell_type": "markdown",
   "metadata": {},
   "source": [
    "##### LOAD DATA"
   ]
  },
  {
   "cell_type": "code",
   "execution_count": 8,
   "metadata": {
    "collapsed": true
   },
   "outputs": [],
   "source": [
    "# read all data\n",
    "sdf_cliens = spark.read.csv('/user/mvshevc5/retailhero/clients.csv', inferSchema=True, header=True)\n",
    "sdf_products = spark.read.csv('/user/mvshevc5/retailhero/products.csv', inferSchema=True, header=True)\n",
    "sdf_purchase = spark.read.csv('/user/mvshevc5/retailhero/purchases.csv', inferSchema=True, header=True)\n",
    "sdf_train = spark.read.csv('/user/mvshevc5/retailhero/uplift_train.csv', inferSchema=True, header=True)\n",
    "sdf_test = spark.read.csv('/user/mvshevc5/retailhero/uplift_test.csv', inferSchema=True, header=True)"
   ]
  },
  {
   "cell_type": "code",
   "execution_count": 9,
   "metadata": {
    "collapsed": true
   },
   "outputs": [],
   "source": [
    "sdf_purchase = sdf_purchase.join(sdf_products, on=['product_id'], how='left')"
   ]
  },
  {
   "cell_type": "code",
   "execution_count": 10,
   "metadata": {
    "collapsed": true
   },
   "outputs": [],
   "source": [
    "df_clients = sdf_cliens.toPandas()\n",
    "df_train = sdf_train.toPandas()\n",
    "df_test = sdf_test.toPandas()\n",
    "df_products = sdf_products.toPandas()\n",
    "df_purchases = sdf_purchase.toPandas()"
   ]
  },
  {
   "cell_type": "code",
   "execution_count": 11,
   "metadata": {
    "collapsed": true
   },
   "outputs": [],
   "source": [
    "df_clients = df_clients.set_index('client_id')\n",
    "df_train = df_train.set_index('client_id')\n",
    "df_test = df_test.set_index('client_id')\n",
    "df_products = df_products.set_index('product_id')\n",
    "\n",
    "df_purchases.loc[:,'transaction_datetime'] =  pd.to_datetime(df_purchases['transaction_datetime'])\n",
    "df_clients.loc[:,'first_issue_date'] = pd.to_datetime(df_clients['first_issue_date'])\n",
    "df_clients.loc[:,'first_redeem_date'] = pd.to_datetime(df_clients['first_redeem_date'])"
   ]
  },
  {
   "cell_type": "code",
   "execution_count": 12,
   "metadata": {},
   "outputs": [
    {
     "data": {
      "text/plain": [
       "(45786568, 23)"
      ]
     },
     "execution_count": 12,
     "metadata": {},
     "output_type": "execute_result"
    }
   ],
   "source": [
    "# with products\n",
    "df_purchases.shape\n",
    "# (45 786 568, 23)"
   ]
  },
  {
   "cell_type": "markdown",
   "metadata": {
    "collapsed": true
   },
   "source": [
    "----"
   ]
  },
  {
   "cell_type": "markdown",
   "metadata": {},
   "source": [
    "#### MAKE FEATURES FROM purchase and products:"
   ]
  },
  {
   "cell_type": "code",
   "execution_count": 13,
   "metadata": {},
   "outputs": [
    {
     "data": {
      "text/html": [
       "<div>\n",
       "<style scoped>\n",
       "    .dataframe tbody tr th:only-of-type {\n",
       "        vertical-align: middle;\n",
       "    }\n",
       "\n",
       "    .dataframe tbody tr th {\n",
       "        vertical-align: top;\n",
       "    }\n",
       "\n",
       "    .dataframe thead th {\n",
       "        text-align: right;\n",
       "    }\n",
       "</style>\n",
       "<table border=\"1\" class=\"dataframe\">\n",
       "  <thead>\n",
       "    <tr style=\"text-align: right;\">\n",
       "      <th></th>\n",
       "      <th>product_id</th>\n",
       "      <th>client_id</th>\n",
       "      <th>transaction_id</th>\n",
       "      <th>transaction_datetime</th>\n",
       "      <th>regular_points_received</th>\n",
       "      <th>express_points_received</th>\n",
       "      <th>regular_points_spent</th>\n",
       "      <th>express_points_spent</th>\n",
       "      <th>purchase_sum</th>\n",
       "      <th>store_id</th>\n",
       "      <th>product_quantity</th>\n",
       "      <th>trn_sum_from_iss</th>\n",
       "      <th>trn_sum_from_red</th>\n",
       "      <th>level_1</th>\n",
       "      <th>level_2</th>\n",
       "      <th>level_3</th>\n",
       "      <th>level_4</th>\n",
       "      <th>segment_id</th>\n",
       "      <th>brand_id</th>\n",
       "      <th>vendor_id</th>\n",
       "      <th>netto</th>\n",
       "      <th>is_own_trademark</th>\n",
       "      <th>is_alcohol</th>\n",
       "    </tr>\n",
       "  </thead>\n",
       "  <tbody>\n",
       "    <tr>\n",
       "      <th>0</th>\n",
       "      <td>9a80204f78</td>\n",
       "      <td>000012768d</td>\n",
       "      <td>7e3e2e3984</td>\n",
       "      <td>2018-12-01 07:12:45</td>\n",
       "      <td>10.0</td>\n",
       "      <td>0.0</td>\n",
       "      <td>0.0</td>\n",
       "      <td>0.0</td>\n",
       "      <td>1007.0</td>\n",
       "      <td>54a4a11a29</td>\n",
       "      <td>2.0</td>\n",
       "      <td>80.0</td>\n",
       "      <td>NaN</td>\n",
       "      <td>e344ab2e71</td>\n",
       "      <td>ed2ad1797c</td>\n",
       "      <td>b25baa9dd5</td>\n",
       "      <td>51647c28e9</td>\n",
       "      <td>116.0</td>\n",
       "      <td>082560ca58</td>\n",
       "      <td>63243765ed</td>\n",
       "      <td>0.031</td>\n",
       "      <td>0</td>\n",
       "      <td>0</td>\n",
       "    </tr>\n",
       "    <tr>\n",
       "      <th>1</th>\n",
       "      <td>da89ebd374</td>\n",
       "      <td>000012768d</td>\n",
       "      <td>7e3e2e3984</td>\n",
       "      <td>2018-12-01 07:12:45</td>\n",
       "      <td>10.0</td>\n",
       "      <td>0.0</td>\n",
       "      <td>0.0</td>\n",
       "      <td>0.0</td>\n",
       "      <td>1007.0</td>\n",
       "      <td>54a4a11a29</td>\n",
       "      <td>1.0</td>\n",
       "      <td>65.0</td>\n",
       "      <td>NaN</td>\n",
       "      <td>e344ab2e71</td>\n",
       "      <td>ed2ad1797c</td>\n",
       "      <td>0767853bf3</td>\n",
       "      <td>eaeb795060</td>\n",
       "      <td>14.0</td>\n",
       "      <td>cab440afaf</td>\n",
       "      <td>43acd80c1a</td>\n",
       "      <td>0.400</td>\n",
       "      <td>1</td>\n",
       "      <td>0</td>\n",
       "    </tr>\n",
       "  </tbody>\n",
       "</table>\n",
       "</div>"
      ],
      "text/plain": [
       "   product_id   client_id transaction_id transaction_datetime  \\\n",
       "0  9a80204f78  000012768d  7e3e2e3984    2018-12-01 07:12:45    \n",
       "1  da89ebd374  000012768d  7e3e2e3984    2018-12-01 07:12:45    \n",
       "\n",
       "   regular_points_received  express_points_received  regular_points_spent  \\\n",
       "0  10.0                     0.0                      0.0                    \n",
       "1  10.0                     0.0                      0.0                    \n",
       "\n",
       "   express_points_spent  purchase_sum    store_id  product_quantity  \\\n",
       "0  0.0                   1007.0        54a4a11a29  2.0                \n",
       "1  0.0                   1007.0        54a4a11a29  1.0                \n",
       "\n",
       "   trn_sum_from_iss  trn_sum_from_red     level_1     level_2     level_3  \\\n",
       "0  80.0             NaN                e344ab2e71  ed2ad1797c  b25baa9dd5   \n",
       "1  65.0             NaN                e344ab2e71  ed2ad1797c  0767853bf3   \n",
       "\n",
       "      level_4  segment_id    brand_id   vendor_id  netto  is_own_trademark  \\\n",
       "0  51647c28e9  116.0       082560ca58  63243765ed  0.031  0                  \n",
       "1  eaeb795060  14.0        cab440afaf  43acd80c1a  0.400  1                  \n",
       "\n",
       "   is_alcohol  \n",
       "0  0           \n",
       "1  0           "
      ]
     },
     "execution_count": 13,
     "metadata": {},
     "output_type": "execute_result"
    }
   ],
   "source": [
    "df_purchases.head(2)"
   ]
  },
  {
   "cell_type": "code",
   "execution_count": null,
   "metadata": {
    "collapsed": true
   },
   "outputs": [],
   "source": [
    "id_cols =  ['product_id', 'transaction_id', 'store_id']\n",
    "\n",
    "cont_cols = ['regular_points_received','express_points_received', 'regular_points_spent', 'express_points_spent',\n",
    "    'purchase_sum', 'product_quantity', 'trn_sum_from_iss', 'trn_sum_from_red', 'netto']\n",
    "\n",
    "cat_cols = ['level_1', 'level_2', 'level_3', 'level_4', 'segment_id', 'vendor_id']\n",
    "\n",
    "binary_cols = ['is_own_trademark', 'is_alcohol']"
   ]
  },
  {
   "cell_type": "code",
   "execution_count": null,
   "metadata": {
    "collapsed": true
   },
   "outputs": [],
   "source": [
    "agg_cols_1 = ['mean', 'max', 'min', 'median']\n",
    "agg_cols_2 = ['nunique']\n",
    "\n",
    "df_purch_total = df_purchases\\\n",
    "    .groupby('client_id')\\\n",
    "    .agg({\n",
    "        'transaction_id': ['count', 'nunique'],\n",
    "        'regular_points_received': agg_cols_1,\n",
    "        'express_points_received': agg_cols_1,\n",
    "        'regular_points_spent': agg_cols_1,\n",
    "        'express_points_spent': agg_cols_1,\n",
    "        'purchase_sum': agg_cols_1,\n",
    "        'product_quantity': agg_cols_1,\n",
    "        'trn_sum_from_iss': agg_cols_1,\n",
    "        'trn_sum_from_red': agg_cols_1,\n",
    "        'netto': agg_cols_1\n",
    "    })\n",
    "    \n",
    "df_purch_total.columns =  ['__'.join(col).strip() for col in df_purch_total.columns.values]\n",
    "df_purch_total = df_purch_total.rename(columns={'transaction_id__count':'total_count'})"
   ]
  },
  {
   "cell_type": "code",
   "execution_count": null,
   "metadata": {
    "collapsed": true
   },
   "outputs": [],
   "source": [
    "print(df_purch_total.shape)\n",
    "df_purch_total.head(2)"
   ]
  },
  {
   "cell_type": "code",
   "execution_count": 150,
   "metadata": {
    "collapsed": true
   },
   "outputs": [],
   "source": [
    "# save:\n",
    "df_purch_total.to_csv('data/putch_total_agg.csv')"
   ]
  },
  {
   "cell_type": "code",
   "execution_count": 160,
   "metadata": {},
   "outputs": [
    {
     "name": "stdout",
     "output_type": "stream",
     "text": [
      "Aggregate column: product_id\n",
      "Aggregate column: transaction_id\n",
      "Aggregate column: store_id\n",
      "Aggregate column: level_1\n",
      "Aggregate column: level_2\n",
      "Aggregate column: level_3\n",
      "Aggregate column: level_4\n",
      "Aggregate column: segment_id\n",
      "Aggregate column: vendor_id\n",
      "CPU times: user 5min 49s, sys: 207 ms, total: 5min 49s\n",
      "Wall time: 5min 48s\n"
     ]
    }
   ],
   "source": [
    "%%time\n",
    "cols = id_cols + cat_cols\n",
    "\n",
    "df_purch_cat_aggs = []\n",
    "\n",
    "for col in cols:\n",
    "    print(f'Aggregate column: {col}')\n",
    "    df_col_agg = get_category_feat(df_purchases, column=col)\n",
    "    df_purch_cat_aggs.append(df_col_agg)\n",
    "    \n",
    "#  5min 48s"
   ]
  },
  {
   "cell_type": "code",
   "execution_count": 161,
   "metadata": {
    "collapsed": true
   },
   "outputs": [],
   "source": [
    "df_purch_total_cat = pd.concat(df_purch_cat_aggs, axis=1)"
   ]
  },
  {
   "cell_type": "code",
   "execution_count": 162,
   "metadata": {},
   "outputs": [
    {
     "name": "stdout",
     "output_type": "stream",
     "text": [
      "(400162, 36)\n"
     ]
    },
    {
     "data": {
      "text/html": [
       "<div>\n",
       "<style scoped>\n",
       "    .dataframe tbody tr th:only-of-type {\n",
       "        vertical-align: middle;\n",
       "    }\n",
       "\n",
       "    .dataframe tbody tr th {\n",
       "        vertical-align: top;\n",
       "    }\n",
       "\n",
       "    .dataframe thead th {\n",
       "        text-align: right;\n",
       "    }\n",
       "</style>\n",
       "<table border=\"1\" class=\"dataframe\">\n",
       "  <thead>\n",
       "    <tr style=\"text-align: right;\">\n",
       "      <th></th>\n",
       "      <th>most_comm_product_id</th>\n",
       "      <th>nunique_product_id</th>\n",
       "      <th>most_comm_cnt_ratio_product_id</th>\n",
       "      <th>most_comm_sum_ratio_product_id</th>\n",
       "      <th>most_comm_transaction_id</th>\n",
       "      <th>nunique_transaction_id</th>\n",
       "      <th>most_comm_cnt_ratio_transaction_id</th>\n",
       "      <th>most_comm_sum_ratio_transaction_id</th>\n",
       "      <th>most_comm_store_id</th>\n",
       "      <th>nunique_store_id</th>\n",
       "      <th>most_comm_cnt_ratio_store_id</th>\n",
       "      <th>most_comm_sum_ratio_store_id</th>\n",
       "      <th>most_comm_level_1</th>\n",
       "      <th>nunique_level_1</th>\n",
       "      <th>most_comm_cnt_ratio_level_1</th>\n",
       "      <th>most_comm_sum_ratio_level_1</th>\n",
       "      <th>most_comm_level_2</th>\n",
       "      <th>nunique_level_2</th>\n",
       "      <th>most_comm_cnt_ratio_level_2</th>\n",
       "      <th>most_comm_sum_ratio_level_2</th>\n",
       "      <th>most_comm_level_3</th>\n",
       "      <th>nunique_level_3</th>\n",
       "      <th>most_comm_cnt_ratio_level_3</th>\n",
       "      <th>most_comm_sum_ratio_level_3</th>\n",
       "      <th>most_comm_level_4</th>\n",
       "      <th>nunique_level_4</th>\n",
       "      <th>most_comm_cnt_ratio_level_4</th>\n",
       "      <th>most_comm_sum_ratio_level_4</th>\n",
       "      <th>most_comm_segment_id</th>\n",
       "      <th>nunique_segment_id</th>\n",
       "      <th>most_comm_cnt_ratio_segment_id</th>\n",
       "      <th>most_comm_sum_ratio_segment_id</th>\n",
       "      <th>most_comm_vendor_id</th>\n",
       "      <th>nunique_vendor_id</th>\n",
       "      <th>most_comm_cnt_ratio_vendor_id</th>\n",
       "      <th>most_comm_sum_ratio_vendor_id</th>\n",
       "    </tr>\n",
       "  </thead>\n",
       "  <tbody>\n",
       "    <tr>\n",
       "      <th>000012768d</th>\n",
       "      <td>057ea8df98</td>\n",
       "      <td>46</td>\n",
       "      <td>0.038462</td>\n",
       "      <td>0.024333</td>\n",
       "      <td>7e3e2e3984</td>\n",
       "      <td>4</td>\n",
       "      <td>0.365385</td>\n",
       "      <td>0.468843</td>\n",
       "      <td>017c89b915</td>\n",
       "      <td>3</td>\n",
       "      <td>0.423077</td>\n",
       "      <td>0.376437</td>\n",
       "      <td>e344ab2e71</td>\n",
       "      <td>3</td>\n",
       "      <td>0.519231</td>\n",
       "      <td>0.545002</td>\n",
       "      <td>ad2b2e17d2</td>\n",
       "      <td>8</td>\n",
       "      <td>0.326923</td>\n",
       "      <td>0.312627</td>\n",
       "      <td>ca69ed9de2</td>\n",
       "      <td>24</td>\n",
       "      <td>0.230769</td>\n",
       "      <td>0.215467</td>\n",
       "      <td>46951c62e8</td>\n",
       "      <td>31</td>\n",
       "      <td>0.076923</td>\n",
       "      <td>0.069298</td>\n",
       "      <td>1.0</td>\n",
       "      <td>23.0</td>\n",
       "      <td>0.078431</td>\n",
       "      <td>0.073518</td>\n",
       "      <td>43acd80c1a</td>\n",
       "      <td>29</td>\n",
       "      <td>0.076923</td>\n",
       "      <td>0.083094</td>\n",
       "    </tr>\n",
       "    <tr>\n",
       "      <th>000036f903</th>\n",
       "      <td>449e431b58</td>\n",
       "      <td>96</td>\n",
       "      <td>0.049383</td>\n",
       "      <td>0.049485</td>\n",
       "      <td>517dea5e24</td>\n",
       "      <td>32</td>\n",
       "      <td>0.055556</td>\n",
       "      <td>0.097558</td>\n",
       "      <td>6381a55c22</td>\n",
       "      <td>5</td>\n",
       "      <td>0.691358</td>\n",
       "      <td>0.649230</td>\n",
       "      <td>c3d3a8e8c6</td>\n",
       "      <td>3</td>\n",
       "      <td>0.537037</td>\n",
       "      <td>0.569795</td>\n",
       "      <td>034aca0659</td>\n",
       "      <td>12</td>\n",
       "      <td>0.234568</td>\n",
       "      <td>0.248481</td>\n",
       "      <td>0f84eb7480</td>\n",
       "      <td>39</td>\n",
       "      <td>0.111111</td>\n",
       "      <td>0.091534</td>\n",
       "      <td>420c3b3f0b</td>\n",
       "      <td>58</td>\n",
       "      <td>0.111111</td>\n",
       "      <td>0.091534</td>\n",
       "      <td>150.0</td>\n",
       "      <td>41.0</td>\n",
       "      <td>0.213836</td>\n",
       "      <td>0.194833</td>\n",
       "      <td>e6af81215a</td>\n",
       "      <td>44</td>\n",
       "      <td>0.234568</td>\n",
       "      <td>0.248481</td>\n",
       "    </tr>\n",
       "  </tbody>\n",
       "</table>\n",
       "</div>"
      ],
      "text/plain": [
       "           most_comm_product_id  nunique_product_id  \\\n",
       "000012768d  057ea8df98           46                   \n",
       "000036f903  449e431b58           96                   \n",
       "\n",
       "            most_comm_cnt_ratio_product_id  most_comm_sum_ratio_product_id  \\\n",
       "000012768d  0.038462                        0.024333                         \n",
       "000036f903  0.049383                        0.049485                         \n",
       "\n",
       "           most_comm_transaction_id  nunique_transaction_id  \\\n",
       "000012768d  7e3e2e3984               4                        \n",
       "000036f903  517dea5e24               32                       \n",
       "\n",
       "            most_comm_cnt_ratio_transaction_id  \\\n",
       "000012768d  0.365385                             \n",
       "000036f903  0.055556                             \n",
       "\n",
       "            most_comm_sum_ratio_transaction_id most_comm_store_id  \\\n",
       "000012768d  0.468843                            017c89b915          \n",
       "000036f903  0.097558                            6381a55c22          \n",
       "\n",
       "            nunique_store_id  most_comm_cnt_ratio_store_id  \\\n",
       "000012768d  3                 0.423077                       \n",
       "000036f903  5                 0.691358                       \n",
       "\n",
       "            most_comm_sum_ratio_store_id most_comm_level_1  nunique_level_1  \\\n",
       "000012768d  0.376437                      e344ab2e71        3                 \n",
       "000036f903  0.649230                      c3d3a8e8c6        3                 \n",
       "\n",
       "            most_comm_cnt_ratio_level_1  most_comm_sum_ratio_level_1  \\\n",
       "000012768d  0.519231                     0.545002                      \n",
       "000036f903  0.537037                     0.569795                      \n",
       "\n",
       "           most_comm_level_2  nunique_level_2  most_comm_cnt_ratio_level_2  \\\n",
       "000012768d  ad2b2e17d2        8                0.326923                      \n",
       "000036f903  034aca0659        12               0.234568                      \n",
       "\n",
       "            most_comm_sum_ratio_level_2 most_comm_level_3  nunique_level_3  \\\n",
       "000012768d  0.312627                     ca69ed9de2        24                \n",
       "000036f903  0.248481                     0f84eb7480        39                \n",
       "\n",
       "            most_comm_cnt_ratio_level_3  most_comm_sum_ratio_level_3  \\\n",
       "000012768d  0.230769                     0.215467                      \n",
       "000036f903  0.111111                     0.091534                      \n",
       "\n",
       "           most_comm_level_4  nunique_level_4  most_comm_cnt_ratio_level_4  \\\n",
       "000012768d  46951c62e8        31               0.076923                      \n",
       "000036f903  420c3b3f0b        58               0.111111                      \n",
       "\n",
       "            most_comm_sum_ratio_level_4  most_comm_segment_id  \\\n",
       "000012768d  0.069298                     1.0                    \n",
       "000036f903  0.091534                     150.0                  \n",
       "\n",
       "            nunique_segment_id  most_comm_cnt_ratio_segment_id  \\\n",
       "000012768d  23.0                0.078431                         \n",
       "000036f903  41.0                0.213836                         \n",
       "\n",
       "            most_comm_sum_ratio_segment_id most_comm_vendor_id  \\\n",
       "000012768d  0.073518                        43acd80c1a           \n",
       "000036f903  0.194833                        e6af81215a           \n",
       "\n",
       "            nunique_vendor_id  most_comm_cnt_ratio_vendor_id  \\\n",
       "000012768d  29                 0.076923                        \n",
       "000036f903  44                 0.234568                        \n",
       "\n",
       "            most_comm_sum_ratio_vendor_id  \n",
       "000012768d  0.083094                       \n",
       "000036f903  0.248481                       "
      ]
     },
     "execution_count": 162,
     "metadata": {},
     "output_type": "execute_result"
    }
   ],
   "source": [
    "print(df_purch_total_cat.shape)\n",
    "df_purch_total_cat.head(2)"
   ]
  },
  {
   "cell_type": "code",
   "execution_count": 163,
   "metadata": {
    "collapsed": true
   },
   "outputs": [],
   "source": [
    "# save:\n",
    "df_purch_total_cat.to_csv('data/putch_total_agg_cat.csv')"
   ]
  },
  {
   "cell_type": "markdown",
   "metadata": {
    "collapsed": true
   },
   "source": [
    "##### Agg last data:"
   ]
  },
  {
   "cell_type": "code",
   "execution_count": 159,
   "metadata": {},
   "outputs": [
    {
     "data": {
      "text/html": [
       "<div>\n",
       "<style scoped>\n",
       "    .dataframe tbody tr th:only-of-type {\n",
       "        vertical-align: middle;\n",
       "    }\n",
       "\n",
       "    .dataframe tbody tr th {\n",
       "        vertical-align: top;\n",
       "    }\n",
       "\n",
       "    .dataframe thead th {\n",
       "        text-align: right;\n",
       "    }\n",
       "</style>\n",
       "<table border=\"1\" class=\"dataframe\">\n",
       "  <thead>\n",
       "    <tr style=\"text-align: right;\">\n",
       "      <th></th>\n",
       "      <th>product_id</th>\n",
       "      <th>client_id</th>\n",
       "      <th>transaction_id</th>\n",
       "      <th>transaction_datetime</th>\n",
       "      <th>regular_points_received</th>\n",
       "      <th>express_points_received</th>\n",
       "      <th>regular_points_spent</th>\n",
       "      <th>express_points_spent</th>\n",
       "      <th>purchase_sum</th>\n",
       "      <th>store_id</th>\n",
       "      <th>product_quantity</th>\n",
       "      <th>trn_sum_from_iss</th>\n",
       "      <th>trn_sum_from_red</th>\n",
       "      <th>level_1</th>\n",
       "      <th>level_2</th>\n",
       "      <th>level_3</th>\n",
       "      <th>level_4</th>\n",
       "      <th>segment_id</th>\n",
       "      <th>brand_id</th>\n",
       "      <th>vendor_id</th>\n",
       "      <th>netto</th>\n",
       "      <th>is_own_trademark</th>\n",
       "      <th>is_alcohol</th>\n",
       "    </tr>\n",
       "  </thead>\n",
       "  <tbody>\n",
       "    <tr>\n",
       "      <th>0</th>\n",
       "      <td>9a80204f78</td>\n",
       "      <td>000012768d</td>\n",
       "      <td>7e3e2e3984</td>\n",
       "      <td>2018-12-01 07:12:45</td>\n",
       "      <td>10.0</td>\n",
       "      <td>0.0</td>\n",
       "      <td>0.0</td>\n",
       "      <td>0.0</td>\n",
       "      <td>1007.0</td>\n",
       "      <td>54a4a11a29</td>\n",
       "      <td>2.0</td>\n",
       "      <td>80.0</td>\n",
       "      <td>NaN</td>\n",
       "      <td>e344ab2e71</td>\n",
       "      <td>ed2ad1797c</td>\n",
       "      <td>b25baa9dd5</td>\n",
       "      <td>51647c28e9</td>\n",
       "      <td>116.0</td>\n",
       "      <td>082560ca58</td>\n",
       "      <td>63243765ed</td>\n",
       "      <td>0.031</td>\n",
       "      <td>0</td>\n",
       "      <td>0</td>\n",
       "    </tr>\n",
       "    <tr>\n",
       "      <th>1</th>\n",
       "      <td>da89ebd374</td>\n",
       "      <td>000012768d</td>\n",
       "      <td>7e3e2e3984</td>\n",
       "      <td>2018-12-01 07:12:45</td>\n",
       "      <td>10.0</td>\n",
       "      <td>0.0</td>\n",
       "      <td>0.0</td>\n",
       "      <td>0.0</td>\n",
       "      <td>1007.0</td>\n",
       "      <td>54a4a11a29</td>\n",
       "      <td>1.0</td>\n",
       "      <td>65.0</td>\n",
       "      <td>NaN</td>\n",
       "      <td>e344ab2e71</td>\n",
       "      <td>ed2ad1797c</td>\n",
       "      <td>0767853bf3</td>\n",
       "      <td>eaeb795060</td>\n",
       "      <td>14.0</td>\n",
       "      <td>cab440afaf</td>\n",
       "      <td>43acd80c1a</td>\n",
       "      <td>0.400</td>\n",
       "      <td>1</td>\n",
       "      <td>0</td>\n",
       "    </tr>\n",
       "  </tbody>\n",
       "</table>\n",
       "</div>"
      ],
      "text/plain": [
       "   product_id   client_id transaction_id transaction_datetime  \\\n",
       "0  9a80204f78  000012768d  7e3e2e3984    2018-12-01 07:12:45    \n",
       "1  da89ebd374  000012768d  7e3e2e3984    2018-12-01 07:12:45    \n",
       "\n",
       "   regular_points_received  express_points_received  regular_points_spent  \\\n",
       "0  10.0                     0.0                      0.0                    \n",
       "1  10.0                     0.0                      0.0                    \n",
       "\n",
       "   express_points_spent  purchase_sum    store_id  product_quantity  \\\n",
       "0  0.0                   1007.0        54a4a11a29  2.0                \n",
       "1  0.0                   1007.0        54a4a11a29  1.0                \n",
       "\n",
       "   trn_sum_from_iss  trn_sum_from_red     level_1     level_2     level_3  \\\n",
       "0  80.0             NaN                e344ab2e71  ed2ad1797c  b25baa9dd5   \n",
       "1  65.0             NaN                e344ab2e71  ed2ad1797c  0767853bf3   \n",
       "\n",
       "      level_4  segment_id    brand_id   vendor_id  netto  is_own_trademark  \\\n",
       "0  51647c28e9  116.0       082560ca58  63243765ed  0.031  0                  \n",
       "1  eaeb795060  14.0        cab440afaf  43acd80c1a  0.400  1                  \n",
       "\n",
       "   is_alcohol  \n",
       "0  0           \n",
       "1  0           "
      ]
     },
     "execution_count": 159,
     "metadata": {},
     "output_type": "execute_result"
    }
   ],
   "source": [
    "df_purchases.head(2)"
   ]
  },
  {
   "cell_type": "code",
   "execution_count": null,
   "metadata": {
    "collapsed": true
   },
   "outputs": [],
   "source": [
    "%%time\n",
    "FIX_DATE = pd.to_datetime('2020-01-01')\n",
    "\n",
    "df_purch_date_aggs = df_purchases.groupby('client_id')\\\n",
    " .agg({'transaction_datetime': ['min', 'max']})\n",
    "\n",
    "df_purch_date_aggs.columns = ['min_date', 'max_date']\n",
    "df_purch_date_aggs.loc[:,'days_from_last_trans'] = (FIX_DATE - df_purch_date_aggs['max_date']).dt.days.astype(int)\n",
    "df_purch_date_aggs.loc[:,'min_date_trans'] = df_purch_date_aggs['min_date'].astype(int)/10**9\n",
    "df_purch_date_aggs.loc[:,'max_date_trans'] = df_purch_date_aggs['max_date'].astype(int)/10**9\n",
    "\n",
    "df_purch_date_aggs = df_purch_date_aggs[['min_date_trans', 'max_date_trans', 'days_from_last_trans']]"
   ]
  },
  {
   "cell_type": "code",
   "execution_count": null,
   "metadata": {
    "collapsed": true
   },
   "outputs": [],
   "source": [
    "print(df_purch_date_aggs.shape)\n",
    "df_purch_date_aggs.head(2)"
   ]
  },
  {
   "cell_type": "code",
   "execution_count": 214,
   "metadata": {
    "collapsed": true
   },
   "outputs": [],
   "source": [
    "# save:\n",
    "df_purch_date_aggs.to_csv('data/putch_total_agg_date.csv')"
   ]
  },
  {
   "cell_type": "code",
   "execution_count": 216,
   "metadata": {
    "collapsed": true
   },
   "outputs": [],
   "source": [
    "## LAST DATES AGG:\n",
    "\n",
    "TRANS_DATE = '2019-02-18'\n",
    "\n",
    "df_purch_last = df_purchases[df_purchases['transaction_datetime'] > TRANS_DATE]\\\n",
    "    .groupby('client_id')\\\n",
    "    .agg({\n",
    "        'transaction_id': ['count', 'nunique'],\n",
    "        'regular_points_received': agg_cols_1,\n",
    "        'regular_points_spent': agg_cols_1,\n",
    "        'purchase_sum': agg_cols_1,\n",
    "        'product_quantity': agg_cols_1,\n",
    "    })\n",
    "    \n",
    "df_purch_last.columns =  ['__'.join(col).strip() for col in df_purch_last.columns.values]\n",
    "df_purch_last = df_purch_last.rename(columns={'transaction_id__count':'total_count'})\n",
    "df_purch_last.columns = ['lats_' + col for col in df_purch_last.columns.tolist() ]"
   ]
  },
  {
   "cell_type": "code",
   "execution_count": 223,
   "metadata": {},
   "outputs": [
    {
     "name": "stdout",
     "output_type": "stream",
     "text": [
      "(400162, 18)\n"
     ]
    },
    {
     "data": {
      "text/html": [
       "<div>\n",
       "<style scoped>\n",
       "    .dataframe tbody tr th:only-of-type {\n",
       "        vertical-align: middle;\n",
       "    }\n",
       "\n",
       "    .dataframe tbody tr th {\n",
       "        vertical-align: top;\n",
       "    }\n",
       "\n",
       "    .dataframe thead th {\n",
       "        text-align: right;\n",
       "    }\n",
       "</style>\n",
       "<table border=\"1\" class=\"dataframe\">\n",
       "  <thead>\n",
       "    <tr style=\"text-align: right;\">\n",
       "      <th></th>\n",
       "      <th>lats_total_count</th>\n",
       "      <th>lats_transaction_id__nunique</th>\n",
       "      <th>lats_regular_points_received__mean</th>\n",
       "      <th>lats_regular_points_received__max</th>\n",
       "      <th>lats_regular_points_received__min</th>\n",
       "      <th>lats_regular_points_received__median</th>\n",
       "      <th>lats_regular_points_spent__mean</th>\n",
       "      <th>lats_regular_points_spent__max</th>\n",
       "      <th>lats_regular_points_spent__min</th>\n",
       "      <th>lats_regular_points_spent__median</th>\n",
       "      <th>lats_purchase_sum__mean</th>\n",
       "      <th>lats_purchase_sum__max</th>\n",
       "      <th>lats_purchase_sum__min</th>\n",
       "      <th>lats_purchase_sum__median</th>\n",
       "      <th>lats_product_quantity__mean</th>\n",
       "      <th>lats_product_quantity__max</th>\n",
       "      <th>lats_product_quantity__min</th>\n",
       "      <th>lats_product_quantity__median</th>\n",
       "    </tr>\n",
       "    <tr>\n",
       "      <th>client_id</th>\n",
       "      <th></th>\n",
       "      <th></th>\n",
       "      <th></th>\n",
       "      <th></th>\n",
       "      <th></th>\n",
       "      <th></th>\n",
       "      <th></th>\n",
       "      <th></th>\n",
       "      <th></th>\n",
       "      <th></th>\n",
       "      <th></th>\n",
       "      <th></th>\n",
       "      <th></th>\n",
       "      <th></th>\n",
       "      <th></th>\n",
       "      <th></th>\n",
       "      <th></th>\n",
       "      <th></th>\n",
       "    </tr>\n",
       "  </thead>\n",
       "  <tbody>\n",
       "    <tr>\n",
       "      <th>000012768d</th>\n",
       "      <td>22</td>\n",
       "      <td>2</td>\n",
       "      <td>6.363636</td>\n",
       "      <td>8.0</td>\n",
       "      <td>2.0</td>\n",
       "      <td>8.0</td>\n",
       "      <td>0.0</td>\n",
       "      <td>0.0</td>\n",
       "      <td>0.0</td>\n",
       "      <td>0.0</td>\n",
       "      <td>698.272727</td>\n",
       "      <td>803.0</td>\n",
       "      <td>419.0</td>\n",
       "      <td>803.0</td>\n",
       "      <td>0.863636</td>\n",
       "      <td>2.0</td>\n",
       "      <td>0.0</td>\n",
       "      <td>1.0</td>\n",
       "    </tr>\n",
       "    <tr>\n",
       "      <th>000036f903</th>\n",
       "      <td>44</td>\n",
       "      <td>8</td>\n",
       "      <td>1.900000</td>\n",
       "      <td>2.5</td>\n",
       "      <td>0.4</td>\n",
       "      <td>2.1</td>\n",
       "      <td>0.0</td>\n",
       "      <td>0.0</td>\n",
       "      <td>0.0</td>\n",
       "      <td>0.0</td>\n",
       "      <td>384.613636</td>\n",
       "      <td>506.0</td>\n",
       "      <td>93.0</td>\n",
       "      <td>431.0</td>\n",
       "      <td>1.136364</td>\n",
       "      <td>4.0</td>\n",
       "      <td>0.0</td>\n",
       "      <td>1.0</td>\n",
       "    </tr>\n",
       "  </tbody>\n",
       "</table>\n",
       "</div>"
      ],
      "text/plain": [
       "            lats_total_count  lats_transaction_id__nunique  \\\n",
       "client_id                                                    \n",
       "000012768d  22                2                              \n",
       "000036f903  44                8                              \n",
       "\n",
       "            lats_regular_points_received__mean  \\\n",
       "client_id                                        \n",
       "000012768d  6.363636                             \n",
       "000036f903  1.900000                             \n",
       "\n",
       "            lats_regular_points_received__max  \\\n",
       "client_id                                       \n",
       "000012768d  8.0                                 \n",
       "000036f903  2.5                                 \n",
       "\n",
       "            lats_regular_points_received__min  \\\n",
       "client_id                                       \n",
       "000012768d  2.0                                 \n",
       "000036f903  0.4                                 \n",
       "\n",
       "            lats_regular_points_received__median  \\\n",
       "client_id                                          \n",
       "000012768d  8.0                                    \n",
       "000036f903  2.1                                    \n",
       "\n",
       "            lats_regular_points_spent__mean  lats_regular_points_spent__max  \\\n",
       "client_id                                                                     \n",
       "000012768d  0.0                              0.0                              \n",
       "000036f903  0.0                              0.0                              \n",
       "\n",
       "            lats_regular_points_spent__min  lats_regular_points_spent__median  \\\n",
       "client_id                                                                       \n",
       "000012768d  0.0                             0.0                                 \n",
       "000036f903  0.0                             0.0                                 \n",
       "\n",
       "            lats_purchase_sum__mean  lats_purchase_sum__max  \\\n",
       "client_id                                                     \n",
       "000012768d  698.272727               803.0                    \n",
       "000036f903  384.613636               506.0                    \n",
       "\n",
       "            lats_purchase_sum__min  lats_purchase_sum__median  \\\n",
       "client_id                                                       \n",
       "000012768d  419.0                   803.0                       \n",
       "000036f903  93.0                    431.0                       \n",
       "\n",
       "            lats_product_quantity__mean  lats_product_quantity__max  \\\n",
       "client_id                                                             \n",
       "000012768d  0.863636                     2.0                          \n",
       "000036f903  1.136364                     4.0                          \n",
       "\n",
       "            lats_product_quantity__min  lats_product_quantity__median  \n",
       "client_id                                                              \n",
       "000012768d  0.0                         1.0                            \n",
       "000036f903  0.0                         1.0                            "
      ]
     },
     "execution_count": 223,
     "metadata": {},
     "output_type": "execute_result"
    }
   ],
   "source": [
    "print(df_purch_last.shape)\n",
    "df_purch_last.head(2)"
   ]
  },
  {
   "cell_type": "code",
   "execution_count": 288,
   "metadata": {
    "collapsed": true
   },
   "outputs": [],
   "source": [
    "# save:\n",
    "df_purch_last.to_csv('data/putch_last_agg.csv')"
   ]
  },
  {
   "cell_type": "markdown",
   "metadata": {
    "collapsed": true
   },
   "source": [
    "----"
   ]
  },
  {
   "cell_type": "markdown",
   "metadata": {},
   "source": [
    "#### JOIN ALL DATA"
   ]
  },
  {
   "cell_type": "code",
   "execution_count": 181,
   "metadata": {
    "collapsed": true
   },
   "outputs": [],
   "source": [
    "df_clients = sdf_cliens.toPandas()\n",
    "df_train = sdf_train.toPandas()\n",
    "df_test = sdf_test.toPandas()\n",
    "\n",
    "df_clients = df_clients.set_index('client_id')\n",
    "df_train = df_train.set_index('client_id')\n",
    "df_test = df_test.set_index('client_id')"
   ]
  },
  {
   "cell_type": "code",
   "execution_count": 182,
   "metadata": {},
   "outputs": [
    {
     "name": "stdout",
     "output_type": "stream",
     "text": [
      "(200039, 23)\n"
     ]
    },
    {
     "data": {
      "text/html": [
       "<div>\n",
       "<style scoped>\n",
       "    .dataframe tbody tr th:only-of-type {\n",
       "        vertical-align: middle;\n",
       "    }\n",
       "\n",
       "    .dataframe tbody tr th {\n",
       "        vertical-align: top;\n",
       "    }\n",
       "\n",
       "    .dataframe thead th {\n",
       "        text-align: right;\n",
       "    }\n",
       "</style>\n",
       "<table border=\"1\" class=\"dataframe\">\n",
       "  <thead>\n",
       "    <tr style=\"text-align: right;\">\n",
       "      <th></th>\n",
       "      <th>base_first_issue_date</th>\n",
       "      <th>base_first_redeem_date</th>\n",
       "      <th>base_age</th>\n",
       "      <th>base_gender</th>\n",
       "      <th>base_total_trans_count</th>\n",
       "      <th>base_last_month_trans_count</th>\n",
       "      <th>base_regular_points_received_sum_all</th>\n",
       "      <th>base_express_points_received_sum_all</th>\n",
       "      <th>base_regular_points_spent_sum_all</th>\n",
       "      <th>base_express_points_spent_sum_all</th>\n",
       "      <th>base_purchase_sum_sum_all</th>\n",
       "      <th>base_store_id_sum_all</th>\n",
       "      <th>base_regular_points_received_sum_last_month</th>\n",
       "      <th>base_express_points_received_sum_last_month</th>\n",
       "      <th>base_regular_points_spent_sum_last_month</th>\n",
       "      <th>base_express_points_spent_sum_last_month</th>\n",
       "      <th>base_purchase_sum_sum_last_month</th>\n",
       "      <th>base_store_id_sum_last_month</th>\n",
       "      <th>base_first_issue_date_weekday</th>\n",
       "      <th>base_first_redeem_date_weekday</th>\n",
       "      <th>base_first_issue_date_hour</th>\n",
       "      <th>base_first_redeem_date_hour</th>\n",
       "      <th>base_diff</th>\n",
       "    </tr>\n",
       "  </thead>\n",
       "  <tbody>\n",
       "    <tr>\n",
       "      <th>000012768d</th>\n",
       "      <td>1.501948e+09</td>\n",
       "      <td>1.515094e+09</td>\n",
       "      <td>45</td>\n",
       "      <td>85</td>\n",
       "      <td>4</td>\n",
       "      <td>2</td>\n",
       "      <td>25.7</td>\n",
       "      <td>0.0</td>\n",
       "      <td>0.0</td>\n",
       "      <td>0.0</td>\n",
       "      <td>2803.0</td>\n",
       "      <td>3</td>\n",
       "      <td>10.0</td>\n",
       "      <td>0.0</td>\n",
       "      <td>0.0</td>\n",
       "      <td>0.0</td>\n",
       "      <td>1222.0</td>\n",
       "      <td>1</td>\n",
       "      <td>5</td>\n",
       "      <td>3.0</td>\n",
       "      <td>15</td>\n",
       "      <td>19.0</td>\n",
       "      <td>13146559.0</td>\n",
       "    </tr>\n",
       "    <tr>\n",
       "      <th>000036f903</th>\n",
       "      <td>1.491832e+09</td>\n",
       "      <td>1.492951e+09</td>\n",
       "      <td>72</td>\n",
       "      <td>70</td>\n",
       "      <td>32</td>\n",
       "      <td>8</td>\n",
       "      <td>54.9</td>\n",
       "      <td>60.0</td>\n",
       "      <td>0.0</td>\n",
       "      <td>0.0</td>\n",
       "      <td>9805.0</td>\n",
       "      <td>5</td>\n",
       "      <td>13.7</td>\n",
       "      <td>0.0</td>\n",
       "      <td>0.0</td>\n",
       "      <td>0.0</td>\n",
       "      <td>2784.0</td>\n",
       "      <td>4</td>\n",
       "      <td>0</td>\n",
       "      <td>6.0</td>\n",
       "      <td>13</td>\n",
       "      <td>12.0</td>\n",
       "      <td>1118613.0</td>\n",
       "    </tr>\n",
       "  </tbody>\n",
       "</table>\n",
       "</div>"
      ],
      "text/plain": [
       "            base_first_issue_date  base_first_redeem_date  base_age  \\\n",
       "000012768d  1.501948e+09           1.515094e+09            45         \n",
       "000036f903  1.491832e+09           1.492951e+09            72         \n",
       "\n",
       "            base_gender  base_total_trans_count  base_last_month_trans_count  \\\n",
       "000012768d  85           4                       2                             \n",
       "000036f903  70           32                      8                             \n",
       "\n",
       "            base_regular_points_received_sum_all  \\\n",
       "000012768d  25.7                                   \n",
       "000036f903  54.9                                   \n",
       "\n",
       "            base_express_points_received_sum_all  \\\n",
       "000012768d  0.0                                    \n",
       "000036f903  60.0                                   \n",
       "\n",
       "            base_regular_points_spent_sum_all  \\\n",
       "000012768d  0.0                                 \n",
       "000036f903  0.0                                 \n",
       "\n",
       "            base_express_points_spent_sum_all  base_purchase_sum_sum_all  \\\n",
       "000012768d  0.0                                2803.0                      \n",
       "000036f903  0.0                                9805.0                      \n",
       "\n",
       "            base_store_id_sum_all  \\\n",
       "000012768d  3                       \n",
       "000036f903  5                       \n",
       "\n",
       "            base_regular_points_received_sum_last_month  \\\n",
       "000012768d  10.0                                          \n",
       "000036f903  13.7                                          \n",
       "\n",
       "            base_express_points_received_sum_last_month  \\\n",
       "000012768d  0.0                                           \n",
       "000036f903  0.0                                           \n",
       "\n",
       "            base_regular_points_spent_sum_last_month  \\\n",
       "000012768d  0.0                                        \n",
       "000036f903  0.0                                        \n",
       "\n",
       "            base_express_points_spent_sum_last_month  \\\n",
       "000012768d  0.0                                        \n",
       "000036f903  0.0                                        \n",
       "\n",
       "            base_purchase_sum_sum_last_month  base_store_id_sum_last_month  \\\n",
       "000012768d  1222.0                            1                              \n",
       "000036f903  2784.0                            4                              \n",
       "\n",
       "            base_first_issue_date_weekday  base_first_redeem_date_weekday  \\\n",
       "000012768d  5                              3.0                              \n",
       "000036f903  0                              6.0                              \n",
       "\n",
       "            base_first_issue_date_hour  base_first_redeem_date_hour  \\\n",
       "000012768d  15                          19.0                          \n",
       "000036f903  13                          12.0                          \n",
       "\n",
       "             base_diff  \n",
       "000012768d  13146559.0  \n",
       "000036f903  1118613.0   "
      ]
     },
     "execution_count": 182,
     "metadata": {},
     "output_type": "execute_result"
    }
   ],
   "source": [
    "# baseline features data:\n",
    "base_train = pd.read_csv('data/feats_baseline_train.csv', index_col=0)\n",
    "base_train = base_train.drop(['treatment_flg','target'], axis=1)\n",
    "base_train.columns  = ['base_' + col for col in base_train.columns.tolist()]\n",
    "\n",
    "print(base_train.shape)\n",
    "base_train.head(2)"
   ]
  },
  {
   "cell_type": "code",
   "execution_count": 183,
   "metadata": {},
   "outputs": [
    {
     "name": "stdout",
     "output_type": "stream",
     "text": [
      "(200123, 23)\n"
     ]
    },
    {
     "data": {
      "text/html": [
       "<div>\n",
       "<style scoped>\n",
       "    .dataframe tbody tr th:only-of-type {\n",
       "        vertical-align: middle;\n",
       "    }\n",
       "\n",
       "    .dataframe tbody tr th {\n",
       "        vertical-align: top;\n",
       "    }\n",
       "\n",
       "    .dataframe thead th {\n",
       "        text-align: right;\n",
       "    }\n",
       "</style>\n",
       "<table border=\"1\" class=\"dataframe\">\n",
       "  <thead>\n",
       "    <tr style=\"text-align: right;\">\n",
       "      <th></th>\n",
       "      <th>base_first_issue_date</th>\n",
       "      <th>base_first_redeem_date</th>\n",
       "      <th>base_age</th>\n",
       "      <th>base_gender</th>\n",
       "      <th>base_total_trans_count</th>\n",
       "      <th>base_last_month_trans_count</th>\n",
       "      <th>base_regular_points_received_sum_all</th>\n",
       "      <th>base_express_points_received_sum_all</th>\n",
       "      <th>base_regular_points_spent_sum_all</th>\n",
       "      <th>base_express_points_spent_sum_all</th>\n",
       "      <th>base_purchase_sum_sum_all</th>\n",
       "      <th>base_store_id_sum_all</th>\n",
       "      <th>base_regular_points_received_sum_last_month</th>\n",
       "      <th>base_express_points_received_sum_last_month</th>\n",
       "      <th>base_regular_points_spent_sum_last_month</th>\n",
       "      <th>base_express_points_spent_sum_last_month</th>\n",
       "      <th>base_purchase_sum_sum_last_month</th>\n",
       "      <th>base_store_id_sum_last_month</th>\n",
       "      <th>base_first_issue_date_weekday</th>\n",
       "      <th>base_first_redeem_date_weekday</th>\n",
       "      <th>base_first_issue_date_hour</th>\n",
       "      <th>base_first_redeem_date_hour</th>\n",
       "      <th>base_diff</th>\n",
       "    </tr>\n",
       "  </thead>\n",
       "  <tbody>\n",
       "    <tr>\n",
       "      <th>000048b7a6</th>\n",
       "      <td>1.544881e+09</td>\n",
       "      <td>-9.223372e+09</td>\n",
       "      <td>68</td>\n",
       "      <td>70</td>\n",
       "      <td>8</td>\n",
       "      <td>1</td>\n",
       "      <td>26.5</td>\n",
       "      <td>0.0</td>\n",
       "      <td>0.0</td>\n",
       "      <td>0.0</td>\n",
       "      <td>3772.0</td>\n",
       "      <td>2</td>\n",
       "      <td>1.2</td>\n",
       "      <td>0.0</td>\n",
       "      <td>0.0</td>\n",
       "      <td>0.0</td>\n",
       "      <td>342.0</td>\n",
       "      <td>1</td>\n",
       "      <td>5</td>\n",
       "      <td>NaN</td>\n",
       "      <td>13</td>\n",
       "      <td>NaN</td>\n",
       "      <td>-1.076825e+10</td>\n",
       "    </tr>\n",
       "    <tr>\n",
       "      <th>000073194a</th>\n",
       "      <td>1.495544e+09</td>\n",
       "      <td>1.511522e+09</td>\n",
       "      <td>60</td>\n",
       "      <td>70</td>\n",
       "      <td>17</td>\n",
       "      <td>6</td>\n",
       "      <td>74.9</td>\n",
       "      <td>0.0</td>\n",
       "      <td>-96.0</td>\n",
       "      <td>0.0</td>\n",
       "      <td>9601.4</td>\n",
       "      <td>1</td>\n",
       "      <td>25.0</td>\n",
       "      <td>0.0</td>\n",
       "      <td>0.0</td>\n",
       "      <td>0.0</td>\n",
       "      <td>3393.3</td>\n",
       "      <td>1</td>\n",
       "      <td>1</td>\n",
       "      <td>4.0</td>\n",
       "      <td>12</td>\n",
       "      <td>11.0</td>\n",
       "      <td>1.597811e+07</td>\n",
       "    </tr>\n",
       "  </tbody>\n",
       "</table>\n",
       "</div>"
      ],
      "text/plain": [
       "            base_first_issue_date  base_first_redeem_date  base_age  \\\n",
       "000048b7a6  1.544881e+09          -9.223372e+09            68         \n",
       "000073194a  1.495544e+09           1.511522e+09            60         \n",
       "\n",
       "            base_gender  base_total_trans_count  base_last_month_trans_count  \\\n",
       "000048b7a6  70           8                       1                             \n",
       "000073194a  70           17                      6                             \n",
       "\n",
       "            base_regular_points_received_sum_all  \\\n",
       "000048b7a6  26.5                                   \n",
       "000073194a  74.9                                   \n",
       "\n",
       "            base_express_points_received_sum_all  \\\n",
       "000048b7a6  0.0                                    \n",
       "000073194a  0.0                                    \n",
       "\n",
       "            base_regular_points_spent_sum_all  \\\n",
       "000048b7a6  0.0                                 \n",
       "000073194a -96.0                                \n",
       "\n",
       "            base_express_points_spent_sum_all  base_purchase_sum_sum_all  \\\n",
       "000048b7a6  0.0                                3772.0                      \n",
       "000073194a  0.0                                9601.4                      \n",
       "\n",
       "            base_store_id_sum_all  \\\n",
       "000048b7a6  2                       \n",
       "000073194a  1                       \n",
       "\n",
       "            base_regular_points_received_sum_last_month  \\\n",
       "000048b7a6  1.2                                           \n",
       "000073194a  25.0                                          \n",
       "\n",
       "            base_express_points_received_sum_last_month  \\\n",
       "000048b7a6  0.0                                           \n",
       "000073194a  0.0                                           \n",
       "\n",
       "            base_regular_points_spent_sum_last_month  \\\n",
       "000048b7a6  0.0                                        \n",
       "000073194a  0.0                                        \n",
       "\n",
       "            base_express_points_spent_sum_last_month  \\\n",
       "000048b7a6  0.0                                        \n",
       "000073194a  0.0                                        \n",
       "\n",
       "            base_purchase_sum_sum_last_month  base_store_id_sum_last_month  \\\n",
       "000048b7a6  342.0                             1                              \n",
       "000073194a  3393.3                            1                              \n",
       "\n",
       "            base_first_issue_date_weekday  base_first_redeem_date_weekday  \\\n",
       "000048b7a6  5                             NaN                               \n",
       "000073194a  1                              4.0                              \n",
       "\n",
       "            base_first_issue_date_hour  base_first_redeem_date_hour  \\\n",
       "000048b7a6  13                         NaN                            \n",
       "000073194a  12                          11.0                          \n",
       "\n",
       "               base_diff  \n",
       "000048b7a6 -1.076825e+10  \n",
       "000073194a  1.597811e+07  "
      ]
     },
     "execution_count": 183,
     "metadata": {},
     "output_type": "execute_result"
    }
   ],
   "source": [
    "base_test = pd.read_csv('data/feats_baseline_test.csv', index_col=0)\n",
    "base_test = base_test.drop(['target'], axis=1)\n",
    "base_test.columns  = ['base_' + col for col in base_test.columns.tolist()]\n",
    "\n",
    "print(base_test.shape)\n",
    "base_test.head(2)"
   ]
  },
  {
   "cell_type": "code",
   "execution_count": 184,
   "metadata": {
    "collapsed": true
   },
   "outputs": [],
   "source": [
    "# transform clients data\n",
    "\n",
    "df_clients['first_issue_date_weekday'] = df_clients['first_issue_date'].dt.weekday\n",
    "df_clients['first_redeem_date_weekday'] = df_clients['first_redeem_date'].dt.weekday\n",
    "df_clients['first_issue_date_hour'] = df_clients['first_issue_date'].dt.hour\n",
    "df_clients['first_redeem_date_hour'] = df_clients['first_redeem_date'].dt.hour\n",
    "df_clients['first_issue_date'] = df_clients['first_issue_date'].astype(int)/10**9\n",
    "df_clients['first_redeem_date'] = df_clients['first_redeem_date'].astype(int)/10**9\n",
    "df_clients['diff'] = df_clients['first_redeem_date']-df_clients['first_issue_date']\n",
    "df_clients['gender'] = list(ord(v[0]) for v in df_clients['gender'].values)\n",
    "\n",
    "df_clients.columns = ['cl_' + col for col in df_clients.columns.tolist()]"
   ]
  },
  {
   "cell_type": "code",
   "execution_count": 185,
   "metadata": {},
   "outputs": [
    {
     "name": "stdout",
     "output_type": "stream",
     "text": [
      "(400162, 9)\n"
     ]
    },
    {
     "data": {
      "text/html": [
       "<div>\n",
       "<style scoped>\n",
       "    .dataframe tbody tr th:only-of-type {\n",
       "        vertical-align: middle;\n",
       "    }\n",
       "\n",
       "    .dataframe tbody tr th {\n",
       "        vertical-align: top;\n",
       "    }\n",
       "\n",
       "    .dataframe thead th {\n",
       "        text-align: right;\n",
       "    }\n",
       "</style>\n",
       "<table border=\"1\" class=\"dataframe\">\n",
       "  <thead>\n",
       "    <tr style=\"text-align: right;\">\n",
       "      <th></th>\n",
       "      <th>cl_first_issue_date</th>\n",
       "      <th>cl_first_redeem_date</th>\n",
       "      <th>cl_age</th>\n",
       "      <th>cl_gender</th>\n",
       "      <th>cl_first_issue_date_weekday</th>\n",
       "      <th>cl_first_redeem_date_weekday</th>\n",
       "      <th>cl_first_issue_date_hour</th>\n",
       "      <th>cl_first_redeem_date_hour</th>\n",
       "      <th>cl_diff</th>\n",
       "    </tr>\n",
       "    <tr>\n",
       "      <th>client_id</th>\n",
       "      <th></th>\n",
       "      <th></th>\n",
       "      <th></th>\n",
       "      <th></th>\n",
       "      <th></th>\n",
       "      <th></th>\n",
       "      <th></th>\n",
       "      <th></th>\n",
       "      <th></th>\n",
       "    </tr>\n",
       "  </thead>\n",
       "  <tbody>\n",
       "    <tr>\n",
       "      <th>000012768d</th>\n",
       "      <td>1.501948e+09</td>\n",
       "      <td>1.515094e+09</td>\n",
       "      <td>45</td>\n",
       "      <td>85</td>\n",
       "      <td>5</td>\n",
       "      <td>3.0</td>\n",
       "      <td>15</td>\n",
       "      <td>19.0</td>\n",
       "      <td>13146559.0</td>\n",
       "    </tr>\n",
       "    <tr>\n",
       "      <th>000036f903</th>\n",
       "      <td>1.491832e+09</td>\n",
       "      <td>1.492951e+09</td>\n",
       "      <td>72</td>\n",
       "      <td>70</td>\n",
       "      <td>0</td>\n",
       "      <td>6.0</td>\n",
       "      <td>13</td>\n",
       "      <td>12.0</td>\n",
       "      <td>1118613.0</td>\n",
       "    </tr>\n",
       "  </tbody>\n",
       "</table>\n",
       "</div>"
      ],
      "text/plain": [
       "            cl_first_issue_date  cl_first_redeem_date  cl_age  cl_gender  \\\n",
       "client_id                                                                  \n",
       "000012768d  1.501948e+09         1.515094e+09          45      85          \n",
       "000036f903  1.491832e+09         1.492951e+09          72      70          \n",
       "\n",
       "            cl_first_issue_date_weekday  cl_first_redeem_date_weekday  \\\n",
       "client_id                                                               \n",
       "000012768d  5                            3.0                            \n",
       "000036f903  0                            6.0                            \n",
       "\n",
       "            cl_first_issue_date_hour  cl_first_redeem_date_hour     cl_diff  \n",
       "client_id                                                                    \n",
       "000012768d  15                        19.0                       13146559.0  \n",
       "000036f903  13                        12.0                       1118613.0   "
      ]
     },
     "execution_count": 185,
     "metadata": {},
     "output_type": "execute_result"
    }
   ],
   "source": [
    "print(df_clients.shape)\n",
    "df_clients.head(2)"
   ]
  },
  {
   "cell_type": "code",
   "execution_count": 186,
   "metadata": {
    "collapsed": true
   },
   "outputs": [],
   "source": [
    "# load all trans data:\n",
    "df_total = pd.read_csv('data/putch_total_agg.csv', index_col=0)\n",
    "df_total_cat = pd.read_csv('data/putch_total_agg_cat.csv', index_col=0)\n",
    "df_total_date = pd.read_csv('data/putch_total_agg_date.csv', index_col=0)\n",
    "df_last = pd.read_csv('data/putch_last_agg.csv', index_col=0)"
   ]
  },
  {
   "cell_type": "code",
   "execution_count": 188,
   "metadata": {},
   "outputs": [
    {
     "name": "stdout",
     "output_type": "stream",
     "text": [
      "Train full shape: (400162, 127)\n",
      "Test full shape: (200123, 127)\n"
     ]
    }
   ],
   "source": [
    "df_full_train = pd.concat([\n",
    "    df_clients, df_total, df_total_cat, df_total_date, df_last, base_train\n",
    "], axis=1)\n",
    "\n",
    "df_full_test = pd.concat([\n",
    "    df_clients, df_total, df_total_cat, df_total_date, df_last, base_test\n",
    "], axis=1)\n",
    "\n",
    "df_full_train = df_train.join(df_full_train)\n",
    "df_full_test = df_test.join(df_full_test)\n",
    "\n",
    "print(f'Train full shape: {df_full.shape}')\n",
    "print(f'Test full shape: {df_full_test.shape}')\n",
    "\n",
    "#Train full shape: (400162, 127)\n",
    "#Test full shape: (200123, 127)"
   ]
  },
  {
   "cell_type": "markdown",
   "metadata": {
    "collapsed": true
   },
   "source": [
    "----"
   ]
  },
  {
   "cell_type": "markdown",
   "metadata": {},
   "source": [
    "##### TRAIN TEST SPLIT"
   ]
  },
  {
   "cell_type": "code",
   "execution_count": 19,
   "metadata": {
    "collapsed": true,
    "scrolled": false
   },
   "outputs": [],
   "source": [
    "df_tr, df_val = train_test_split(\n",
    "    df_full_train, test_size=0.3, random_state=2\n",
    ")"
   ]
  },
  {
   "cell_type": "markdown",
   "metadata": {
    "collapsed": true
   },
   "source": [
    "-----"
   ]
  },
  {
   "cell_type": "markdown",
   "metadata": {},
   "source": [
    "###### LEARN MODEL"
   ]
  },
  {
   "cell_type": "code",
   "execution_count": 136,
   "metadata": {
    "collapsed": true
   },
   "outputs": [],
   "source": [
    "try_feat = df_full.columns.tolist()\n",
    "\n",
    "cat_cols = df_full.select_dtypes(include='object').columns.tolist()\n",
    "cat_cols = list(set(cat_cols).intersection(set(try_feat)))"
   ]
  },
  {
   "cell_type": "code",
   "execution_count": 32,
   "metadata": {
    "collapsed": true
   },
   "outputs": [],
   "source": [
    "## PREPARE DATA FOR XGB / LGBM MODEL, fit transform target_encodet on train data\n",
    "enc = yandex_mean_encoder(columns=cat_cols, alpha=100)\n",
    "\n",
    "enc.fit(\n",
    "    df_tr, y=df_tr['target']\n",
    ")\n",
    "\n",
    "df_tr_mod = enc.transform(df_tr)\n",
    "df_val_mod = enc.transform(df_val)"
   ]
  },
  {
   "cell_type": "code",
   "execution_count": 84,
   "metadata": {
    "collapsed": true
   },
   "outputs": [],
   "source": [
    "enc = yandex_mean_encoder(columns=cat_cols, alpha=100)\n",
    "\n",
    "enc.fit(\n",
    "    df_full_train, y=df_full_train['target']\n",
    ")\n",
    "\n",
    "df_full_train_mod = enc.transform(df_full_train)\n",
    "df_full_test_mod = enc.transform(df_full_test)"
   ]
  },
  {
   "cell_type": "code",
   "execution_count": 102,
   "metadata": {
    "collapsed": true
   },
   "outputs": [],
   "source": [
    "# SET models\n",
    "\n",
    "\n",
    "lgbm_params = {\n",
    "    'learning_rate':0.03,\n",
    "    'max_depth':4,\n",
    "    'n_estimators': 480,\n",
    "    'num_leaves':20,\n",
    "    'min_data_in_leaf':3,\n",
    "    'application':'binary',\n",
    "    'subsample':0.8, \n",
    "    'colsample_bytree': 0.8,\n",
    "    'reg_alpha':0.01,\n",
    "    'data_random_seed':42,\n",
    "    'metric':'binary_logloss',\n",
    "    'max_bin':416,\n",
    "    'bagging_freq':3,\n",
    "    'reg_lambda':0.01,\n",
    "    'num_leaves':20,\n",
    "    'nthread': 20,\n",
    "    'seed': 42\n",
    "    }\n",
    "\n",
    "catb_params = {\n",
    "    'n_estimators': 500,\n",
    "    'max_depth':10,\n",
    "    'thread_count': 50,\n",
    "    'random_state': 42\n",
    "}\n",
    "\n",
    "estimator_trmnt = CatBoostClassifier(\n",
    "    cat_features=cat_cols,  verbose=200, random_state=42, task_type='GPU', devices='1'\n",
    ")\n",
    "\n",
    "# estimator_ctrl = CatBoostClassifier(\n",
    "#     cat_features=cat_cols,  verbose=200, random_state=42, task_type='GPU', devices='1'\n",
    "# )\n",
    "\n",
    "# estimator_trmnt = CatBoostClassifier(cat_features=cat_cols, thread_count=50, verbose=200)\n",
    "# estimator_ctrl = CatBoostClassifier(cat_features=cat_cols, thread_count=50, verbose=200)\n",
    "\n",
    "#estimator_trmnt = CatBoostClassifier(cat_features=cat_cols, **catb_params, verbose=200)\n",
    "#estimator_ctrl = CatBoostClassifier(cat_features=cat_cols, **catb_params, verbose=200)\n",
    "\n",
    "#estimator_trmnt = CatBoostClassifier( thread_count=50, verbose=200)\n",
    "#estimator_ctrl = CatBoostClassifier( thread_count=50, verbose=200)\n",
    "\n",
    "#estimator_trmnt = LGBMClassifier(**lgbm_params, verbose=200)\n",
    "#estimator_ctrl  = LGBMClassifier(**lgbm_params, verbose=200)\n",
    "\n",
    "# treatment_model.fit(treatment_x,treatment_y)\n",
    "\n",
    "uplift_models = TwoModels(\n",
    "    estimator_trmnt=estimator_trmnt, \n",
    "    estimator_ctrl=estimator_ctrl\n",
    ")\n",
    "\n",
    "uplift_model_cl_tr = ClassTransformation(\n",
    "    estimator=estimator_trmnt\n",
    ")"
   ]
  },
  {
   "cell_type": "code",
   "execution_count": 16,
   "metadata": {
    "collapsed": true,
    "scrolled": true
   },
   "outputs": [],
   "source": [
    "## PREPARE DATA FOR XGB / LGBM MODEL, fit transform target_encodet on train data\n",
    "enc = yandex_mean_encoder(\n",
    "    columns=cat_cols, alpha=100\n",
    ")\n",
    "\n",
    "xgb_est_params = {\n",
    "    'max_depth':2, \n",
    "    'learning_rate':0.5, \n",
    "    'n_estimators':20,\n",
    "    'nthread':20,\n",
    "    'n_gpus':0,\n",
    "    'seed':10023\n",
    "}\n",
    "\n",
    "estimator = XGBClassifier(**xgb_est_params)\n",
    "\n",
    "\n",
    "uplift_model_cl_tr = ClassTransformation(\n",
    "    estimator=estimator\n",
    ")\n",
    "\n",
    "my_pipeline = Pipeline(steps=[\n",
    "    ('enc', enc),\n",
    "    ('est', uplift_model_cl_tr)\n",
    "])"
   ]
  },
  {
   "cell_type": "code",
   "execution_count": null,
   "metadata": {
    "collapsed": true
   },
   "outputs": [],
   "source": [
    "my_pipeline.fit(\n",
    "    X=df_full_train[try_feat],\n",
    "    y=df_full_train['target'],\n",
    "    est__treatment=df_full_train['treatment_flg']\n",
    ") "
   ]
  },
  {
   "cell_type": "code",
   "execution_count": 144,
   "metadata": {
    "collapsed": true
   },
   "outputs": [],
   "source": [
    "pred_test = my_pipeline.predict(\n",
    "    X=df_full_test[try_feat],\n",
    ")"
   ]
  },
  {
   "cell_type": "code",
   "execution_count": null,
   "metadata": {
    "collapsed": true
   },
   "outputs": [],
   "source": []
  },
  {
   "cell_type": "markdown",
   "metadata": {},
   "source": [
    "##### get  top feats from allready learned model by feature importance"
   ]
  },
  {
   "cell_type": "code",
   "execution_count": 14,
   "metadata": {
    "collapsed": true
   },
   "outputs": [],
   "source": [
    "with open('models/uplift_my_and_baseline_feats_two_models_catb.dill', 'rb') as f_in:\n",
    "    model = dill.load(f_in)\n",
    "    \n",
    "feat_imp = catb_get_feature_imp(\n",
    "    catb_est=model.estimator_trmnt,\n",
    "    features_list=df_full_train\\\n",
    "        .drop(['treatment_flg', 'target'], axis=1)\\\n",
    "        .columns\\\n",
    "        .tolist(), \n",
    "    n_top=80\n",
    ")\n",
    "\n",
    "top_feats = feat_imp['feat'].values.tolist()\n",
    "\n",
    "cat_top_feats = df_full_train[top_feats]\\\n",
    "    .select_dtypes(include='object')\\\n",
    "    .columns\\\n",
    "    .tolist()"
   ]
  },
  {
   "cell_type": "markdown",
   "metadata": {},
   "source": [
    "#### set different try feats list"
   ]
  },
  {
   "cell_type": "code",
   "execution_count": 59,
   "metadata": {},
   "outputs": [
    {
     "data": {
      "text/plain": [
       "74"
      ]
     },
     "execution_count": 59,
     "metadata": {},
     "output_type": "execute_result"
    }
   ],
   "source": [
    "# try_feat = [f for f in  df_tr.columns if 'lats' not in f ]\n",
    "# len(try_feat)\n",
    "\n",
    "try_feat = list(\n",
    "    set(top_feats) - set(cat_top_feats)\n",
    ")\n",
    "\n",
    "len(try_feat)"
   ]
  },
  {
   "cell_type": "code",
   "execution_count": null,
   "metadata": {
    "collapsed": true
   },
   "outputs": [],
   "source": [
    "%%time\n",
    "uplift_models.fit(\n",
    "    X=df_tr.drop(['treatment_flg', 'target'], axis=1),\n",
    "    y=df_tr['target'],\n",
    "    treatment=df_tr['treatment_flg']   \n",
    ")\n",
    "\n",
    "#try_feat = [f for f in df_tr.columns if 'base' in f ]\n",
    "try_feat = [f for f in  df_tr.columns if 'lats' not in f ]\n",
    "\n",
    "uplift_models.fit(\n",
    "    X=df_tr[try_feat],\n",
    "    y=df_tr['target'],\n",
    "    treatment=df_tr['treatment_flg']   \n",
    ")"
   ]
  },
  {
   "cell_type": "code",
   "execution_count": null,
   "metadata": {
    "collapsed": true
   },
   "outputs": [],
   "source": [
    "uplift_model_cl_tr.fit(\n",
    "    X=df_full_train_mod.drop(['treatment_flg', 'target'], axis=1),\n",
    "    y=df_full_train_mod['target'],\n",
    "    treatment=df_full_train_mod['treatment_flg']   \n",
    ")"
   ]
  },
  {
   "cell_type": "code",
   "execution_count": null,
   "metadata": {
    "collapsed": true
   },
   "outputs": [],
   "source": [
    "uplift_model_xgb_cl_tr.fit(\n",
    "     X=df_full_train[try_feat],\n",
    "     y=df_full_train['target'],\n",
    "     treatment=df_full_train['treatment_flg']   \n",
    " )"
   ]
  },
  {
   "cell_type": "code",
   "execution_count": null,
   "metadata": {
    "collapsed": true
   },
   "outputs": [],
   "source": [
    "uplift_model_cl_tr.fit(\n",
    "    X=df_full_train[try_feat],\n",
    "    y=df_full_train['target'],\n",
    "    treatment=df_full_train['treatment_flg']   \n",
    ")"
   ]
  },
  {
   "cell_type": "markdown",
   "metadata": {},
   "source": [
    "### predicts"
   ]
  },
  {
   "cell_type": "code",
   "execution_count": 20,
   "metadata": {
    "collapsed": true
   },
   "outputs": [],
   "source": [
    "upl_final_test = uplift_models.predict(df_full_test)"
   ]
  },
  {
   "cell_type": "code",
   "execution_count": 117,
   "metadata": {
    "collapsed": true
   },
   "outputs": [],
   "source": [
    "#upl_final_test = uplift_model_cl_tr.predict(df_full_test)\n",
    "upl_final_test = uplift_model_xgb_cl_tr.predict(df_full_test[try_feat])"
   ]
  },
  {
   "cell_type": "code",
   "execution_count": 119,
   "metadata": {},
   "outputs": [
    {
     "name": "stdout",
     "output_type": "stream",
     "text": [
      "(200123, 1)\n"
     ]
    },
    {
     "data": {
      "text/html": [
       "<div>\n",
       "<style scoped>\n",
       "    .dataframe tbody tr th:only-of-type {\n",
       "        vertical-align: middle;\n",
       "    }\n",
       "\n",
       "    .dataframe tbody tr th {\n",
       "        vertical-align: top;\n",
       "    }\n",
       "\n",
       "    .dataframe thead th {\n",
       "        text-align: right;\n",
       "    }\n",
       "</style>\n",
       "<table border=\"1\" class=\"dataframe\">\n",
       "  <thead>\n",
       "    <tr style=\"text-align: right;\">\n",
       "      <th></th>\n",
       "      <th>uplift</th>\n",
       "    </tr>\n",
       "    <tr>\n",
       "      <th>client_id</th>\n",
       "      <th></th>\n",
       "    </tr>\n",
       "  </thead>\n",
       "  <tbody>\n",
       "    <tr>\n",
       "      <th>000048b7a6</th>\n",
       "      <td>0.351318</td>\n",
       "    </tr>\n",
       "    <tr>\n",
       "      <th>000073194a</th>\n",
       "      <td>0.424085</td>\n",
       "    </tr>\n",
       "  </tbody>\n",
       "</table>\n",
       "</div>"
      ],
      "text/plain": [
       "              uplift\n",
       "client_id           \n",
       "000048b7a6  0.351318\n",
       "000073194a  0.424085"
      ]
     },
     "execution_count": 119,
     "metadata": {},
     "output_type": "execute_result"
    }
   ],
   "source": [
    "#df_submit = df_full_test.assign(uplift=upl_final_test)[['uplift']]\n",
    "df_submit = df_full_test.assign(uplift=upl_final_test)[['uplift']]\n",
    "\n",
    "print(df_submit.shape)\n",
    "df_submit.head(2)"
   ]
  },
  {
   "cell_type": "code",
   "execution_count": 120,
   "metadata": {
    "collapsed": true
   },
   "outputs": [],
   "source": [
    "df_submit.to_csv('submissions/sub7_myrealfeats_xgb_d2_cl_tr.csv')"
   ]
  },
  {
   "cell_type": "code",
   "execution_count": 121,
   "metadata": {},
   "outputs": [
    {
     "name": "stdout",
     "output_type": "stream",
     "text": [
      "client_id,uplift\r\n",
      "000048b7a6,0.35131788\r\n"
     ]
    }
   ],
   "source": [
    "!head -2 'submissions/sub7_myrealfeats_xgb_d2_cl_tr.csv'"
   ]
  },
  {
   "cell_type": "code",
   "execution_count": 73,
   "metadata": {
    "collapsed": true
   },
   "outputs": [],
   "source": [
    "upl_pred_cl_tr_tr = uplift_model_cl_tr.predict(df_tr[try_feat])\n",
    "upl_pred_cl_tr_val = uplift_model_cl_tr.predict(df_val[try_feat])"
   ]
  },
  {
   "cell_type": "code",
   "execution_count": 42,
   "metadata": {},
   "outputs": [
    {
     "name": "stdout",
     "output_type": "stream",
     "text": [
      "Uplift@30% train: 0.38502\n",
      "Uplift@30% val  : 0.0737\n"
     ]
    }
   ],
   "source": [
    "upl_at_30_tr = np.round(uplift_at_k(\n",
    "    y_true=df_tr['target'].values, \n",
    "    uplift=upl_pred_tr, \n",
    "    treatment=df_tr['treatment_flg'].values, \n",
    "    k=0.3\n",
    "),5)\n",
    "\n",
    "upl_at_30_val = np.round(uplift_at_k(\n",
    "    y_true=df_val['target'].values, \n",
    "    uplift=upl_pred_val, \n",
    "    treatment=df_val['treatment_flg'].values, \n",
    "    k=0.3\n",
    "),5)\n",
    "\n",
    "print(f'Uplift@30% train: {upl_at_30_tr}')\n",
    "print(f'Uplift@30% val  : {upl_at_30_val}')\n",
    "\n",
    "# My feat 2 models catboost default cpu, 2 models\n",
    "# Uplift@30% train: 0.45471\n",
    "# Uplift@30% val  : 0.07812\n",
    "\n",
    "# My feat + base feat 2 models catboost default cpu, 2 models\n",
    "# Uplift@30% train: 0.45823\n",
    "# Uplift@30% val  : 0.07113 \n",
    "\n",
    "# Only base feats, 2 models catboost default cpu, 2 models\n",
    "# Uplift@30% train: 0.35197\n",
    "# Uplift@30% val  : 0.06207\n",
    "\n",
    "#  Only base feats, 2 models lgbm 100 trees\n",
    "# Uplift@30% train: 0.11573\n",
    "# Uplift@30% val  : 0.07085\n",
    "\n",
    "# Only base feats, 2 models lgbm 500 trees\n",
    "# Uplift@30% train: 0.2005\n",
    "# Uplift@30% val  : 0.06995\n",
    "\n",
    "# CATB, 500 trees, depth=10\n",
    "#Uplift@30% train: 0.86665\n",
    "#Uplift@30% val  : 0.05907\n",
    "\n",
    "# CATB, my feats 104 GPU baseline, PUBLIC: 0.071\n",
    "#Uplift@30% train: 0.41384\n",
    "#Uplift@30% val  : 0.0546/ 0.0547 / 0.07622"
   ]
  },
  {
   "cell_type": "code",
   "execution_count": 74,
   "metadata": {},
   "outputs": [
    {
     "name": "stdout",
     "output_type": "stream",
     "text": [
      "Uplift@30% train: 0.17886\n",
      "Uplift@30% val  : 0.06671\n"
     ]
    }
   ],
   "source": [
    "upl_at_30_tr = np.round(uplift_at_k(\n",
    "    y_true=df_tr['target'].values, \n",
    "    uplift=upl_pred_cl_tr_tr, \n",
    "    treatment=df_tr['treatment_flg'].values, \n",
    "    k=0.3\n",
    "),5)\n",
    "\n",
    "upl_at_30_val = np.round(uplift_at_k(\n",
    "    y_true=df_val['target'].values, \n",
    "    uplift=upl_pred_cl_tr_val, \n",
    "    treatment=df_val['treatment_flg'].values, \n",
    "    k=0.3\n",
    "),5)\n",
    "\n",
    "print(f'Uplift@30% train: {upl_at_30_tr}')\n",
    "print(f'Uplift@30% val  : {upl_at_30_val}')\n",
    "\n",
    "# Uplift@30% train: 0.50008\n",
    "# Uplift@30% val  : 0.08324\n",
    "\n",
    "#Uplift@30% train: 0.17886\n",
    "#Uplift@30% val  : 0.06671"
   ]
  },
  {
   "cell_type": "markdown",
   "metadata": {},
   "source": [
    "### MODEL VALIDATION"
   ]
  },
  {
   "cell_type": "code",
   "execution_count": 112,
   "metadata": {
    "collapsed": true
   },
   "outputs": [],
   "source": [
    "# XGB baseline\n",
    "\n",
    "xgb_est_params = {\n",
    "    'max_depth':2, \n",
    "    'learning_rate':0.5, \n",
    "    'n_estimators':20,\n",
    "    'nthread':20,\n",
    "    'n_gpus':0,\n",
    "    'seed':10023\n",
    "}\n",
    "\n",
    "xgb_est_trmnt = XGBClassifier(**xgb_est_params)\n",
    "xgb_est_cntr = XGBClassifier(**xgb_est_params)\n",
    "\n",
    "uplift_model_xgb_cl_tr = ClassTransformation(\n",
    "    estimator=xgb_est_trmnt\n",
    ")\n",
    "\n",
    "uplift_model_xgb_2mod = TwoModels(\n",
    "    estimator_trmnt=xgb_est_trmnt,\n",
    "    estimator_ctrl=xgb_est_cntr\n",
    ")"
   ]
  },
  {
   "cell_type": "code",
   "execution_count": 97,
   "metadata": {
    "collapsed": true
   },
   "outputs": [],
   "source": [
    "### SET MODEL\n",
    "\n",
    "cat_cols = df_full_train\\\n",
    "    .select_dtypes(include='object')\\\n",
    "    .columns.tolist()\n",
    "    \n",
    "cat_cols = list(set(cat_cols)\\\n",
    "                .intersection(set(try_feat)))\n",
    "\n",
    "estimator_trmnt = CatBoostClassifier(\n",
    "    cat_features=cat_cols,  verbose=200, random_state=42, task_type='GPU', devices='1'\n",
    ")\n",
    "\n",
    "estimator_ctrl = CatBoostClassifier(\n",
    "    cat_features=cat_cols,  verbose=200, random_state=42, task_type='GPU', devices='1'\n",
    ")\n",
    "\n",
    "uplift_model_cl_tr = ClassTransformation(\n",
    "    estimator=estimator_trmnt\n",
    ")\n",
    "\n",
    "uplift_model_2mod = TwoModels(\n",
    "    estimator_trmnt=estimator_trmnt,\n",
    "    estimator_ctrl=estimator_ctrl\n",
    ")"
   ]
  },
  {
   "cell_type": "code",
   "execution_count": null,
   "metadata": {
    "collapsed": true
   },
   "outputs": [],
   "source": [
    "val_cl_tr = make_validation(\n",
    "    df_full=df_full_train,\n",
    "    upift_model=uplift_model_xgb_cl_tr,\n",
    "    try_feat=try_feat,\n",
    "    n_iter=30\n",
    ")"
   ]
  },
  {
   "cell_type": "code",
   "execution_count": 110,
   "metadata": {},
   "outputs": [
    {
     "name": "stdout",
     "output_type": "stream",
     "text": [
      "0.07265 0.00687\n"
     ]
    }
   ],
   "source": [
    "val_cl_tr_df =\\\n",
    "    pd.DataFrame(val_cl_tr).T\n",
    "\n",
    "print(\n",
    "    np.round(val_cl_tr_df['score_val'].mean(), 5), \n",
    "    np.round(val_cl_tr_df['score_val'].std(), 5)\n",
    ")"
   ]
  },
  {
   "cell_type": "code",
   "execution_count": null,
   "metadata": {
    "collapsed": true
   },
   "outputs": [],
   "source": [
    "val_res_all_feats_2mod = make_validation(\n",
    "    df_full=df_full_train,\n",
    "    upift_model=uplift_model_2mod,\n",
    "    try_feat=try_feat,\n",
    "    n_iter=30\n",
    ")"
   ]
  },
  {
   "cell_type": "code",
   "execution_count": null,
   "metadata": {
    "collapsed": true
   },
   "outputs": [],
   "source": []
  },
  {
   "cell_type": "markdown",
   "metadata": {},
   "source": [
    "##### SEARCH BEST PARAMS WITH ITERAIMVE VALIDATION"
   ]
  },
  {
   "cell_type": "code",
   "execution_count": null,
   "metadata": {},
   "outputs": [],
   "source": [
    "out_res = []\n",
    "\n",
    "xgb_try_params = [\n",
    "  (1, 10, 1),\n",
    "  (2, 20, 0.5),\n",
    "  (2, 100, 0.5),\n",
    "  (2, 200, 0.4),\n",
    "  (3, 100, 0.5)  \n",
    "]\n",
    "\n",
    "for param in xgb_try_params:\n",
    "    d, n, eta = param[0], param[1], param[2]\n",
    "    print(f'Parms: {param}')\n",
    "\n",
    "    xgb_est_params = {\n",
    "        'max_depth':d, \n",
    "        'learning_rate':eta, \n",
    "        'n_estimators':n,\n",
    "        'nthread':50,\n",
    "        'n_gpus':0,\n",
    "        'seed':0\n",
    "    }\n",
    "\n",
    "    xgb_est = XGBClassifier(**xgb_est_params)\n",
    "\n",
    "    uplift_tmp_model_xgb_cl_tr = ClassTransformation(\n",
    "        estimator=xgb_est\n",
    "    )\n",
    "    \n",
    "    val_tmp = make_validation(\n",
    "        df_full=df_full_train,\n",
    "        upift_model=uplift_tmp_model_xgb_cl_tr,\n",
    "        try_feat=try_feat,\n",
    "        n_iter=20\n",
    "    )\n",
    "    \n",
    "    val_res_df =\\\n",
    "        pd.DataFrame(val_tmp).T\n",
    "    \n",
    "    mean = np.round(val_res_df['score_val'].mean(), 5)\n",
    "    std = np.round(val_res_df['score_val'].std(), 5)\n",
    "    print(f'Mean: {mean}, Std: {std}\\n')\n",
    "          \n",
    "    out_res.append(\n",
    "        [param, (mean, std)]\n",
    "    )"
   ]
  },
  {
   "cell_type": "code",
   "execution_count": 84,
   "metadata": {},
   "outputs": [
    {
     "data": {
      "text/plain": [
       "[[(1, 10, 1), (0.05752, 0.00662)],\n",
       " [(2, 20, 0.5), (0.07135, 0.00708)],\n",
       " [(2, 100, 0.5), (0.06838, 0.00653)],\n",
       " [(2, 200, 0.4), (0.06838, 0.00662)],\n",
       " [(3, 100, 0.5), (0.06645, 0.00444)]]"
      ]
     },
     "execution_count": 84,
     "metadata": {},
     "output_type": "execute_result"
    }
   ],
   "source": [
    "out_res"
   ]
  },
  {
   "cell_type": "code",
   "execution_count": 64,
   "metadata": {
    "collapsed": true
   },
   "outputs": [],
   "source": [
    "val_res_all_feats_2mod_df = pd.DataFrame(val_res_all_feats_cl_tr).T\n",
    "val_res_all_feats_cl_tr_df = pd.DataFrame(val_res_all_feats_2mod).T"
   ]
  },
  {
   "cell_type": "code",
   "execution_count": 65,
   "metadata": {},
   "outputs": [
    {
     "name": "stdout",
     "output_type": "stream",
     "text": [
      "0.06408 0.00567\n"
     ]
    }
   ],
   "source": [
    "# CLass trans winss\n",
    "print(\n",
    "    np.round(val_res_all_feats_cl_tr_df['score_val'].mean(), 5), \n",
    "    np.round(val_res_all_feats_cl_tr_df['score_val'].std(), 5)\n",
    ")\n",
    "\n",
    "# CL TRANSF ON CATB ON ALL 125 features workes better, and less std"
   ]
  },
  {
   "cell_type": "code",
   "execution_count": null,
   "metadata": {
    "collapsed": true
   },
   "outputs": [],
   "source": [
    "# CLass trans winss\n",
    "print(\n",
    "    np.round(val_res_all_feats_2mod_df['score_val'].mean(), 5), \n",
    "    np.round(val_res_all_feats_2mod_df['score_val'].std(), 5)\n",
    ")\n",
    "\n",
    "print(\n",
    "    np.round(val_res_all_feats_cl_tr_df['score_val'].mean(), 5), \n",
    "    np.round(val_res_all_feats_cl_tr_df['score_val'].std(), 5)\n",
    ")\n",
    "# 2 mod Catb gpu, all feats: 0.06592 / 0.0062\n",
    "# Cl tr catb gpu: all_feats: 0.06999 / 0.00573"
   ]
  },
  {
   "cell_type": "code",
   "execution_count": null,
   "metadata": {
    "collapsed": true
   },
   "outputs": [],
   "source": []
  },
  {
   "cell_type": "markdown",
   "metadata": {},
   "source": [
    "##### FEATURE IMPORTANCE"
   ]
  },
  {
   "cell_type": "code",
   "execution_count": null,
   "metadata": {
    "collapsed": true
   },
   "outputs": [],
   "source": [
    "feat_imp = catb_get_feature_imp(\n",
    "    catb_est=uplift_models.estimator_trmnt, \n",
    "    features_list=df_tr.drop(['treatment_flg', 'target'], axis=1).columns.tolist(), n_top=50\n",
    ")"
   ]
  },
  {
   "cell_type": "code",
   "execution_count": 53,
   "metadata": {},
   "outputs": [
    {
     "data": {
      "text/html": [
       "<div>\n",
       "<style scoped>\n",
       "    .dataframe tbody tr th:only-of-type {\n",
       "        vertical-align: middle;\n",
       "    }\n",
       "\n",
       "    .dataframe tbody tr th {\n",
       "        vertical-align: top;\n",
       "    }\n",
       "\n",
       "    .dataframe thead th {\n",
       "        text-align: right;\n",
       "    }\n",
       "</style>\n",
       "<table border=\"1\" class=\"dataframe\">\n",
       "  <thead>\n",
       "    <tr style=\"text-align: right;\">\n",
       "      <th></th>\n",
       "      <th>feat</th>\n",
       "      <th>value</th>\n",
       "    </tr>\n",
       "  </thead>\n",
       "  <tbody>\n",
       "    <tr>\n",
       "      <th>105</th>\n",
       "      <td>base_first_redeem_date</td>\n",
       "      <td>6.371143</td>\n",
       "    </tr>\n",
       "    <tr>\n",
       "      <th>1</th>\n",
       "      <td>cl_first_redeem_date</td>\n",
       "      <td>5.156744</td>\n",
       "    </tr>\n",
       "    <tr>\n",
       "      <th>55</th>\n",
       "      <td>most_comm_store_id</td>\n",
       "      <td>3.064702</td>\n",
       "    </tr>\n",
       "    <tr>\n",
       "      <th>47</th>\n",
       "      <td>most_comm_product_id</td>\n",
       "      <td>2.150233</td>\n",
       "    </tr>\n",
       "    <tr>\n",
       "      <th>79</th>\n",
       "      <td>most_comm_vendor_id</td>\n",
       "      <td>1.578800</td>\n",
       "    </tr>\n",
       "    <tr>\n",
       "      <th>81</th>\n",
       "      <td>most_comm_cnt_ratio_vendor_id</td>\n",
       "      <td>1.552867</td>\n",
       "    </tr>\n",
       "    <tr>\n",
       "      <th>83</th>\n",
       "      <td>min_date_trans</td>\n",
       "      <td>1.539354</td>\n",
       "    </tr>\n",
       "    <tr>\n",
       "      <th>84</th>\n",
       "      <td>max_date_trans</td>\n",
       "      <td>1.515702</td>\n",
       "    </tr>\n",
       "    <tr>\n",
       "      <th>67</th>\n",
       "      <td>most_comm_level_3</td>\n",
       "      <td>1.475879</td>\n",
       "    </tr>\n",
       "    <tr>\n",
       "      <th>71</th>\n",
       "      <td>most_comm_level_4</td>\n",
       "      <td>1.450214</td>\n",
       "    </tr>\n",
       "    <tr>\n",
       "      <th>36</th>\n",
       "      <td>trn_sum_from_iss__max</td>\n",
       "      <td>1.439413</td>\n",
       "    </tr>\n",
       "    <tr>\n",
       "      <th>63</th>\n",
       "      <td>most_comm_level_2</td>\n",
       "      <td>1.403898</td>\n",
       "    </tr>\n",
       "    <tr>\n",
       "      <th>62</th>\n",
       "      <td>most_comm_sum_ratio_level_1</td>\n",
       "      <td>1.383764</td>\n",
       "    </tr>\n",
       "    <tr>\n",
       "      <th>100</th>\n",
       "      <td>lats_product_quantity__mean</td>\n",
       "      <td>1.378181</td>\n",
       "    </tr>\n",
       "    <tr>\n",
       "      <th>66</th>\n",
       "      <td>most_comm_sum_ratio_level_2</td>\n",
       "      <td>1.349626</td>\n",
       "    </tr>\n",
       "    <tr>\n",
       "      <th>8</th>\n",
       "      <td>cl_diff</td>\n",
       "      <td>1.311406</td>\n",
       "    </tr>\n",
       "    <tr>\n",
       "      <th>65</th>\n",
       "      <td>most_comm_cnt_ratio_level_2</td>\n",
       "      <td>1.300474</td>\n",
       "    </tr>\n",
       "    <tr>\n",
       "      <th>43</th>\n",
       "      <td>netto__mean</td>\n",
       "      <td>1.257622</td>\n",
       "    </tr>\n",
       "    <tr>\n",
       "      <th>2</th>\n",
       "      <td>cl_age</td>\n",
       "      <td>1.242986</td>\n",
       "    </tr>\n",
       "    <tr>\n",
       "      <th>58</th>\n",
       "      <td>most_comm_sum_ratio_store_id</td>\n",
       "      <td>1.239658</td>\n",
       "    </tr>\n",
       "  </tbody>\n",
       "</table>\n",
       "</div>"
      ],
      "text/plain": [
       "                              feat     value\n",
       "105  base_first_redeem_date         6.371143\n",
       "1    cl_first_redeem_date           5.156744\n",
       "55   most_comm_store_id             3.064702\n",
       "47   most_comm_product_id           2.150233\n",
       "79   most_comm_vendor_id            1.578800\n",
       "81   most_comm_cnt_ratio_vendor_id  1.552867\n",
       "83   min_date_trans                 1.539354\n",
       "84   max_date_trans                 1.515702\n",
       "67   most_comm_level_3              1.475879\n",
       "71   most_comm_level_4              1.450214\n",
       "36   trn_sum_from_iss__max          1.439413\n",
       "63   most_comm_level_2              1.403898\n",
       "62   most_comm_sum_ratio_level_1    1.383764\n",
       "100  lats_product_quantity__mean    1.378181\n",
       "66   most_comm_sum_ratio_level_2    1.349626\n",
       "8    cl_diff                        1.311406\n",
       "65   most_comm_cnt_ratio_level_2    1.300474\n",
       "43   netto__mean                    1.257622\n",
       "2    cl_age                         1.242986\n",
       "58   most_comm_sum_ratio_store_id   1.239658"
      ]
     },
     "execution_count": 53,
     "metadata": {},
     "output_type": "execute_result"
    }
   ],
   "source": [
    "feat_imp"
   ]
  },
  {
   "cell_type": "code",
   "execution_count": 36,
   "metadata": {},
   "outputs": [
    {
     "data": {
      "text/html": [
       "<div>\n",
       "<style scoped>\n",
       "    .dataframe tbody tr th:only-of-type {\n",
       "        vertical-align: middle;\n",
       "    }\n",
       "\n",
       "    .dataframe tbody tr th {\n",
       "        vertical-align: top;\n",
       "    }\n",
       "\n",
       "    .dataframe thead th {\n",
       "        text-align: right;\n",
       "    }\n",
       "</style>\n",
       "<table border=\"1\" class=\"dataframe\">\n",
       "  <thead>\n",
       "    <tr style=\"text-align: right;\">\n",
       "      <th></th>\n",
       "      <th>feat</th>\n",
       "      <th>value</th>\n",
       "    </tr>\n",
       "  </thead>\n",
       "  <tbody>\n",
       "    <tr>\n",
       "      <th>1</th>\n",
       "      <td>cl_first_redeem_date</td>\n",
       "      <td>24.547691</td>\n",
       "    </tr>\n",
       "    <tr>\n",
       "      <th>87</th>\n",
       "      <td>lats_transaction_id__nunique</td>\n",
       "      <td>5.660717</td>\n",
       "    </tr>\n",
       "    <tr>\n",
       "      <th>52</th>\n",
       "      <td>nunique_transaction_id</td>\n",
       "      <td>3.879558</td>\n",
       "    </tr>\n",
       "    <tr>\n",
       "      <th>10</th>\n",
       "      <td>transaction_id__nunique</td>\n",
       "      <td>3.609283</td>\n",
       "    </tr>\n",
       "    <tr>\n",
       "      <th>84</th>\n",
       "      <td>max_date_trans</td>\n",
       "      <td>3.468024</td>\n",
       "    </tr>\n",
       "    <tr>\n",
       "      <th>53</th>\n",
       "      <td>most_comm_cnt_ratio_transaction_id</td>\n",
       "      <td>2.693755</td>\n",
       "    </tr>\n",
       "    <tr>\n",
       "      <th>85</th>\n",
       "      <td>days_from_last_trans</td>\n",
       "      <td>2.680469</td>\n",
       "    </tr>\n",
       "    <tr>\n",
       "      <th>83</th>\n",
       "      <td>min_date_trans</td>\n",
       "      <td>2.169165</td>\n",
       "    </tr>\n",
       "    <tr>\n",
       "      <th>2</th>\n",
       "      <td>cl_age</td>\n",
       "      <td>1.678595</td>\n",
       "    </tr>\n",
       "    <tr>\n",
       "      <th>0</th>\n",
       "      <td>cl_first_issue_date</td>\n",
       "      <td>1.560320</td>\n",
       "    </tr>\n",
       "    <tr>\n",
       "      <th>8</th>\n",
       "      <td>cl_diff</td>\n",
       "      <td>1.375706</td>\n",
       "    </tr>\n",
       "    <tr>\n",
       "      <th>86</th>\n",
       "      <td>lats_total_count</td>\n",
       "      <td>1.373558</td>\n",
       "    </tr>\n",
       "    <tr>\n",
       "      <th>81</th>\n",
       "      <td>most_comm_cnt_ratio_vendor_id</td>\n",
       "      <td>1.080767</td>\n",
       "    </tr>\n",
       "    <tr>\n",
       "      <th>61</th>\n",
       "      <td>most_comm_cnt_ratio_level_1</td>\n",
       "      <td>1.064633</td>\n",
       "    </tr>\n",
       "    <tr>\n",
       "      <th>58</th>\n",
       "      <td>most_comm_sum_ratio_store_id</td>\n",
       "      <td>1.004720</td>\n",
       "    </tr>\n",
       "    <tr>\n",
       "      <th>98</th>\n",
       "      <td>lats_purchase_sum__min</td>\n",
       "      <td>0.969743</td>\n",
       "    </tr>\n",
       "    <tr>\n",
       "      <th>14</th>\n",
       "      <td>regular_points_received__median</td>\n",
       "      <td>0.947503</td>\n",
       "    </tr>\n",
       "    <tr>\n",
       "      <th>67</th>\n",
       "      <td>most_comm_level_3</td>\n",
       "      <td>0.864439</td>\n",
       "    </tr>\n",
       "    <tr>\n",
       "      <th>36</th>\n",
       "      <td>trn_sum_from_iss__max</td>\n",
       "      <td>0.863619</td>\n",
       "    </tr>\n",
       "    <tr>\n",
       "      <th>47</th>\n",
       "      <td>most_comm_product_id</td>\n",
       "      <td>0.848748</td>\n",
       "    </tr>\n",
       "  </tbody>\n",
       "</table>\n",
       "</div>"
      ],
      "text/plain": [
       "                                  feat      value\n",
       "1   cl_first_redeem_date                24.547691\n",
       "87  lats_transaction_id__nunique        5.660717 \n",
       "52  nunique_transaction_id              3.879558 \n",
       "10  transaction_id__nunique             3.609283 \n",
       "84  max_date_trans                      3.468024 \n",
       "53  most_comm_cnt_ratio_transaction_id  2.693755 \n",
       "85  days_from_last_trans                2.680469 \n",
       "83  min_date_trans                      2.169165 \n",
       "2   cl_age                              1.678595 \n",
       "0   cl_first_issue_date                 1.560320 \n",
       "8   cl_diff                             1.375706 \n",
       "86  lats_total_count                    1.373558 \n",
       "81  most_comm_cnt_ratio_vendor_id       1.080767 \n",
       "61  most_comm_cnt_ratio_level_1         1.064633 \n",
       "58  most_comm_sum_ratio_store_id        1.004720 \n",
       "98  lats_purchase_sum__min              0.969743 \n",
       "14  regular_points_received__median     0.947503 \n",
       "67  most_comm_level_3                   0.864439 \n",
       "36  trn_sum_from_iss__max               0.863619 \n",
       "47  most_comm_product_id                0.848748 "
      ]
     },
     "execution_count": 36,
     "metadata": {},
     "output_type": "execute_result"
    }
   ],
   "source": [
    "# days_from_last_trans is it ok? \n",
    "feat_imp"
   ]
  },
  {
   "cell_type": "code",
   "execution_count": null,
   "metadata": {
    "collapsed": true
   },
   "outputs": [],
   "source": [
    "### TO DO \n",
    "## SELECT TOP FEATURES"
   ]
  }
 ],
 "metadata": {
  "kernelspec": {
   "display_name": "research_venv_py37",
   "language": "python",
   "name": "research_venv_py37"
  },
  "language_info": {
   "codemirror_mode": {
    "name": "ipython",
    "version": 3
   },
   "file_extension": ".py",
   "mimetype": "text/x-python",
   "name": "python",
   "nbconvert_exporter": "python",
   "pygments_lexer": "ipython3",
   "version": "3.7.2"
  }
 },
 "nbformat": 4,
 "nbformat_minor": 2
}
